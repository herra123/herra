{
 "cells": [
  {
   "cell_type": "code",
   "execution_count": 1,
   "id": "846e0e3e",
   "metadata": {
    "_cell_guid": "b1076dfc-b9ad-4769-8c92-a6c4dae69d19",
    "_uuid": "8f2839f25d086af736a60e9eeb907d3b93b6e0e5",
    "execution": {
     "iopub.execute_input": "2024-05-15T06:25:12.272075Z",
     "iopub.status.busy": "2024-05-15T06:25:12.271679Z",
     "iopub.status.idle": "2024-05-15T06:25:14.797542Z",
     "shell.execute_reply": "2024-05-15T06:25:14.796114Z"
    },
    "papermill": {
     "duration": 2.546788,
     "end_time": "2024-05-15T06:25:14.800438",
     "exception": false,
     "start_time": "2024-05-15T06:25:12.253650",
     "status": "completed"
    },
    "tags": []
   },
   "outputs": [
    {
     "name": "stdout",
     "output_type": "stream",
     "text": [
      "/kaggle/input/real-estate-data-uae/uae_properties.csv\n"
     ]
    }
   ],
   "source": [
    "# This Python 3 environment comes with many helpful analytics libraries installed\n",
    "# It is defined by the kaggle/python Docker image: https://github.com/kaggle/docker-python\n",
    "# For example, here's several helpful packages to load\n",
    "\n",
    "import numpy as np # linear algebra\n",
    "import pandas as pd # data processing, CSV file I/O (e.g. pd.read_csv)\n",
    "import matplotlib.pyplot as plt\n",
    "import seaborn as sns\n",
    "\n",
    "# Input data files are available in the read-only \"../input/\" directory\n",
    "# For example, running this (by clicking run or pressing Shift+Enter) will list all files under the input directory\n",
    "\n",
    "import os\n",
    "for dirname, _, filenames in os.walk('/kaggle/input'):\n",
    "    for filename in filenames:\n",
    "        print(os.path.join(dirname, filename))\n",
    "\n",
    "# You can write up to 20GB to the current directory (/kaggle/working/) that gets preserved as output when you create a version using \"Save & Run All\" \n",
    "# You can also write temporary files to /kaggle/temp/, but they won't be saved outside of the current session"
   ]
  },
  {
   "cell_type": "markdown",
   "id": "a86f09df",
   "metadata": {
    "papermill": {
     "duration": 0.015439,
     "end_time": "2024-05-15T06:25:14.832020",
     "exception": false,
     "start_time": "2024-05-15T06:25:14.816581",
     "status": "completed"
    },
    "tags": []
   },
   "source": [
    "# Reading the data and get some infomation and statistics."
   ]
  },
  {
   "cell_type": "code",
   "execution_count": 2,
   "id": "7c88da31",
   "metadata": {
    "execution": {
     "iopub.execute_input": "2024-05-15T06:25:14.865491Z",
     "iopub.status.busy": "2024-05-15T06:25:14.864967Z",
     "iopub.status.idle": "2024-05-15T06:25:14.909107Z",
     "shell.execute_reply": "2024-05-15T06:25:14.907827Z"
    },
    "papermill": {
     "duration": 0.063956,
     "end_time": "2024-05-15T06:25:14.911777",
     "exception": false,
     "start_time": "2024-05-15T06:25:14.847821",
     "status": "completed"
    },
    "tags": []
   },
   "outputs": [
    {
     "data": {
      "text/html": [
       "<div>\n",
       "<style scoped>\n",
       "    .dataframe tbody tr th:only-of-type {\n",
       "        vertical-align: middle;\n",
       "    }\n",
       "\n",
       "    .dataframe tbody tr th {\n",
       "        vertical-align: top;\n",
       "    }\n",
       "\n",
       "    .dataframe thead th {\n",
       "        text-align: right;\n",
       "    }\n",
       "</style>\n",
       "<table border=\"1\" class=\"dataframe\">\n",
       "  <thead>\n",
       "    <tr style=\"text-align: right;\">\n",
       "      <th></th>\n",
       "      <th>id</th>\n",
       "      <th>title</th>\n",
       "      <th>displayAddress</th>\n",
       "      <th>bathrooms</th>\n",
       "      <th>bedrooms</th>\n",
       "      <th>addedOn</th>\n",
       "      <th>type</th>\n",
       "      <th>rera</th>\n",
       "      <th>propertyType</th>\n",
       "      <th>price</th>\n",
       "    </tr>\n",
       "  </thead>\n",
       "  <tbody>\n",
       "    <tr>\n",
       "      <th>0</th>\n",
       "      <td>10837871</td>\n",
       "      <td>★ EXCLUSIVE RELEASE ★ | LUXURY 3 BED FLAT | GO...</td>\n",
       "      <td>Sobha One, Sobha Hartland, Mohammed Bin Rashid...</td>\n",
       "      <td>2</td>\n",
       "      <td>3</td>\n",
       "      <td>2024-01-06T17:05:24+00:00</td>\n",
       "      <td>buy</td>\n",
       "      <td>8.171857e+08</td>\n",
       "      <td>apartment</td>\n",
       "      <td>3950000</td>\n",
       "    </tr>\n",
       "    <tr>\n",
       "      <th>1</th>\n",
       "      <td>10880180</td>\n",
       "      <td>★ BUY NOW 624,000AED ★ (20% FIRST PAYMENT + 4%...</td>\n",
       "      <td>Sobha Verde, Jumeirah Lake Towers, Dubai</td>\n",
       "      <td>2</td>\n",
       "      <td>3</td>\n",
       "      <td>2024-01-13T21:19:31+00:00</td>\n",
       "      <td>buy</td>\n",
       "      <td>8.171857e+08</td>\n",
       "      <td>apartment</td>\n",
       "      <td>2600000</td>\n",
       "    </tr>\n",
       "    <tr>\n",
       "      <th>2</th>\n",
       "      <td>11220200</td>\n",
       "      <td>GREEN HEART OF DUBAI |URBAN DESIGN | LUXURY LI...</td>\n",
       "      <td>Park Horizon, Dubai Hills Estate, Dubai</td>\n",
       "      <td>2</td>\n",
       "      <td>3</td>\n",
       "      <td>2024-03-12T03:18:54+00:00</td>\n",
       "      <td>buy</td>\n",
       "      <td>2.125966e+09</td>\n",
       "      <td>apartment</td>\n",
       "      <td>3450000</td>\n",
       "    </tr>\n",
       "    <tr>\n",
       "      <th>3</th>\n",
       "      <td>11176502</td>\n",
       "      <td>Prime Location | Corner Spacious Unit | Bright...</td>\n",
       "      <td>AZIZI Riviera, Meydan One, Meydan, Dubai</td>\n",
       "      <td>2</td>\n",
       "      <td>3</td>\n",
       "      <td>2024-03-04T06:53:51+00:00</td>\n",
       "      <td>buy</td>\n",
       "      <td>7.114978e+10</td>\n",
       "      <td>apartment</td>\n",
       "      <td>2000000</td>\n",
       "    </tr>\n",
       "    <tr>\n",
       "      <th>4</th>\n",
       "      <td>11179908</td>\n",
       "      <td>Very Limited | Ideal For Investment | 40% Disc...</td>\n",
       "      <td>Verdana, Dubai Investment Park, Dubai</td>\n",
       "      <td>2</td>\n",
       "      <td>0</td>\n",
       "      <td>2024-03-04T13:24:39+00:00</td>\n",
       "      <td>buy</td>\n",
       "      <td>4.652616e+08</td>\n",
       "      <td>apartment</td>\n",
       "      <td>284000</td>\n",
       "    </tr>\n",
       "  </tbody>\n",
       "</table>\n",
       "</div>"
      ],
      "text/plain": [
       "         id                                              title  \\\n",
       "0  10837871  ★ EXCLUSIVE RELEASE ★ | LUXURY 3 BED FLAT | GO...   \n",
       "1  10880180  ★ BUY NOW 624,000AED ★ (20% FIRST PAYMENT + 4%...   \n",
       "2  11220200  GREEN HEART OF DUBAI |URBAN DESIGN | LUXURY LI...   \n",
       "3  11176502  Prime Location | Corner Spacious Unit | Bright...   \n",
       "4  11179908  Very Limited | Ideal For Investment | 40% Disc...   \n",
       "\n",
       "                                      displayAddress  bathrooms  bedrooms  \\\n",
       "0  Sobha One, Sobha Hartland, Mohammed Bin Rashid...          2         3   \n",
       "1           Sobha Verde, Jumeirah Lake Towers, Dubai          2         3   \n",
       "2            Park Horizon, Dubai Hills Estate, Dubai          2         3   \n",
       "3           AZIZI Riviera, Meydan One, Meydan, Dubai          2         3   \n",
       "4              Verdana, Dubai Investment Park, Dubai          2         0   \n",
       "\n",
       "                     addedOn type          rera propertyType    price  \n",
       "0  2024-01-06T17:05:24+00:00  buy  8.171857e+08    apartment  3950000  \n",
       "1  2024-01-13T21:19:31+00:00  buy  8.171857e+08    apartment  2600000  \n",
       "2  2024-03-12T03:18:54+00:00  buy  2.125966e+09    apartment  3450000  \n",
       "3  2024-03-04T06:53:51+00:00  buy  7.114978e+10    apartment  2000000  \n",
       "4  2024-03-04T13:24:39+00:00  buy  4.652616e+08    apartment   284000  "
      ]
     },
     "execution_count": 2,
     "metadata": {},
     "output_type": "execute_result"
    }
   ],
   "source": [
    "re = pd.read_csv(\"/kaggle/input/real-estate-data-uae/uae_properties.csv\")\n",
    "re.head()"
   ]
  },
  {
   "cell_type": "code",
   "execution_count": 3,
   "id": "306de41f",
   "metadata": {
    "execution": {
     "iopub.execute_input": "2024-05-15T06:25:14.947562Z",
     "iopub.status.busy": "2024-05-15T06:25:14.946737Z",
     "iopub.status.idle": "2024-05-15T06:25:14.954739Z",
     "shell.execute_reply": "2024-05-15T06:25:14.953285Z"
    },
    "papermill": {
     "duration": 0.029654,
     "end_time": "2024-05-15T06:25:14.957931",
     "exception": false,
     "start_time": "2024-05-15T06:25:14.928277",
     "status": "completed"
    },
    "tags": []
   },
   "outputs": [
    {
     "data": {
      "text/plain": [
       "Index(['id', 'title', 'displayAddress', 'bathrooms', 'bedrooms', 'addedOn',\n",
       "       'type', 'rera', 'propertyType', 'price'],\n",
       "      dtype='object')"
      ]
     },
     "execution_count": 3,
     "metadata": {},
     "output_type": "execute_result"
    }
   ],
   "source": [
    "re.columns"
   ]
  },
  {
   "cell_type": "code",
   "execution_count": 4,
   "id": "24b82e2d",
   "metadata": {
    "execution": {
     "iopub.execute_input": "2024-05-15T06:25:14.992777Z",
     "iopub.status.busy": "2024-05-15T06:25:14.992351Z",
     "iopub.status.idle": "2024-05-15T06:25:15.020573Z",
     "shell.execute_reply": "2024-05-15T06:25:15.018929Z"
    },
    "papermill": {
     "duration": 0.04873,
     "end_time": "2024-05-15T06:25:15.023366",
     "exception": false,
     "start_time": "2024-05-15T06:25:14.974636",
     "status": "completed"
    },
    "tags": []
   },
   "outputs": [
    {
     "name": "stdout",
     "output_type": "stream",
     "text": [
      "<class 'pandas.core.frame.DataFrame'>\n",
      "RangeIndex: 492 entries, 0 to 491\n",
      "Data columns (total 10 columns):\n",
      " #   Column          Non-Null Count  Dtype  \n",
      "---  ------          --------------  -----  \n",
      " 0   id              492 non-null    int64  \n",
      " 1   title           492 non-null    object \n",
      " 2   displayAddress  492 non-null    object \n",
      " 3   bathrooms       492 non-null    int64  \n",
      " 4   bedrooms        492 non-null    int64  \n",
      " 5   addedOn         492 non-null    object \n",
      " 6   type            492 non-null    object \n",
      " 7   rera            323 non-null    float64\n",
      " 8   propertyType    492 non-null    object \n",
      " 9   price           492 non-null    int64  \n",
      "dtypes: float64(1), int64(4), object(5)\n",
      "memory usage: 38.6+ KB\n"
     ]
    }
   ],
   "source": [
    "re.info()"
   ]
  },
  {
   "cell_type": "code",
   "execution_count": 5,
   "id": "0c60f6f9",
   "metadata": {
    "execution": {
     "iopub.execute_input": "2024-05-15T06:25:15.059708Z",
     "iopub.status.busy": "2024-05-15T06:25:15.059325Z",
     "iopub.status.idle": "2024-05-15T06:25:15.069435Z",
     "shell.execute_reply": "2024-05-15T06:25:15.068285Z"
    },
    "papermill": {
     "duration": 0.03121,
     "end_time": "2024-05-15T06:25:15.071814",
     "exception": false,
     "start_time": "2024-05-15T06:25:15.040604",
     "status": "completed"
    },
    "tags": []
   },
   "outputs": [
    {
     "data": {
      "text/plain": [
       "id                  0\n",
       "title               0\n",
       "displayAddress      0\n",
       "bathrooms           0\n",
       "bedrooms            0\n",
       "addedOn             0\n",
       "type                0\n",
       "rera              169\n",
       "propertyType        0\n",
       "price               0\n",
       "dtype: int64"
      ]
     },
     "execution_count": 5,
     "metadata": {},
     "output_type": "execute_result"
    }
   ],
   "source": [
    "re.isna().sum()"
   ]
  },
  {
   "cell_type": "code",
   "execution_count": 6,
   "id": "1e2822a9",
   "metadata": {
    "execution": {
     "iopub.execute_input": "2024-05-15T06:25:15.107727Z",
     "iopub.status.busy": "2024-05-15T06:25:15.107324Z",
     "iopub.status.idle": "2024-05-15T06:25:15.137870Z",
     "shell.execute_reply": "2024-05-15T06:25:15.136686Z"
    },
    "papermill": {
     "duration": 0.051235,
     "end_time": "2024-05-15T06:25:15.140426",
     "exception": false,
     "start_time": "2024-05-15T06:25:15.089191",
     "status": "completed"
    },
    "tags": []
   },
   "outputs": [
    {
     "data": {
      "text/html": [
       "<div>\n",
       "<style scoped>\n",
       "    .dataframe tbody tr th:only-of-type {\n",
       "        vertical-align: middle;\n",
       "    }\n",
       "\n",
       "    .dataframe tbody tr th {\n",
       "        vertical-align: top;\n",
       "    }\n",
       "\n",
       "    .dataframe thead th {\n",
       "        text-align: right;\n",
       "    }\n",
       "</style>\n",
       "<table border=\"1\" class=\"dataframe\">\n",
       "  <thead>\n",
       "    <tr style=\"text-align: right;\">\n",
       "      <th></th>\n",
       "      <th>id</th>\n",
       "      <th>bathrooms</th>\n",
       "      <th>bedrooms</th>\n",
       "      <th>rera</th>\n",
       "      <th>price</th>\n",
       "    </tr>\n",
       "  </thead>\n",
       "  <tbody>\n",
       "    <tr>\n",
       "      <th>count</th>\n",
       "      <td>4.920000e+02</td>\n",
       "      <td>492.0</td>\n",
       "      <td>492.000000</td>\n",
       "      <td>3.230000e+02</td>\n",
       "      <td>4.920000e+02</td>\n",
       "    </tr>\n",
       "    <tr>\n",
       "      <th>mean</th>\n",
       "      <td>1.089778e+07</td>\n",
       "      <td>2.0</td>\n",
       "      <td>2.140244</td>\n",
       "      <td>1.562928e+10</td>\n",
       "      <td>2.166491e+06</td>\n",
       "    </tr>\n",
       "    <tr>\n",
       "      <th>std</th>\n",
       "      <td>3.890556e+05</td>\n",
       "      <td>0.0</td>\n",
       "      <td>1.357879</td>\n",
       "      <td>2.843012e+10</td>\n",
       "      <td>2.126998e+06</td>\n",
       "    </tr>\n",
       "    <tr>\n",
       "      <th>min</th>\n",
       "      <td>8.741796e+06</td>\n",
       "      <td>2.0</td>\n",
       "      <td>0.000000</td>\n",
       "      <td>8.470901e+06</td>\n",
       "      <td>2.330000e+05</td>\n",
       "    </tr>\n",
       "    <tr>\n",
       "      <th>25%</th>\n",
       "      <td>1.074976e+07</td>\n",
       "      <td>2.0</td>\n",
       "      <td>0.000000</td>\n",
       "      <td>8.186209e+08</td>\n",
       "      <td>9.529638e+05</td>\n",
       "    </tr>\n",
       "    <tr>\n",
       "      <th>50%</th>\n",
       "      <td>1.104052e+07</td>\n",
       "      <td>2.0</td>\n",
       "      <td>3.000000</td>\n",
       "      <td>1.678338e+09</td>\n",
       "      <td>1.499000e+06</td>\n",
       "    </tr>\n",
       "    <tr>\n",
       "      <th>75%</th>\n",
       "      <td>1.117956e+07</td>\n",
       "      <td>2.0</td>\n",
       "      <td>3.000000</td>\n",
       "      <td>7.131427e+09</td>\n",
       "      <td>2.434250e+06</td>\n",
       "    </tr>\n",
       "    <tr>\n",
       "      <th>max</th>\n",
       "      <td>1.125045e+07</td>\n",
       "      <td>2.0</td>\n",
       "      <td>3.000000</td>\n",
       "      <td>2.022028e+11</td>\n",
       "      <td>1.450000e+07</td>\n",
       "    </tr>\n",
       "  </tbody>\n",
       "</table>\n",
       "</div>"
      ],
      "text/plain": [
       "                 id  bathrooms    bedrooms          rera         price\n",
       "count  4.920000e+02      492.0  492.000000  3.230000e+02  4.920000e+02\n",
       "mean   1.089778e+07        2.0    2.140244  1.562928e+10  2.166491e+06\n",
       "std    3.890556e+05        0.0    1.357879  2.843012e+10  2.126998e+06\n",
       "min    8.741796e+06        2.0    0.000000  8.470901e+06  2.330000e+05\n",
       "25%    1.074976e+07        2.0    0.000000  8.186209e+08  9.529638e+05\n",
       "50%    1.104052e+07        2.0    3.000000  1.678338e+09  1.499000e+06\n",
       "75%    1.117956e+07        2.0    3.000000  7.131427e+09  2.434250e+06\n",
       "max    1.125045e+07        2.0    3.000000  2.022028e+11  1.450000e+07"
      ]
     },
     "execution_count": 6,
     "metadata": {},
     "output_type": "execute_result"
    }
   ],
   "source": [
    "re.describe()"
   ]
  },
  {
   "cell_type": "markdown",
   "id": "e22a7feb",
   "metadata": {
    "papermill": {
     "duration": 0.016665,
     "end_time": "2024-05-15T06:25:15.174114",
     "exception": false,
     "start_time": "2024-05-15T06:25:15.157449",
     "status": "completed"
    },
    "tags": []
   },
   "source": [
    "---\n",
    "---"
   ]
  },
  {
   "cell_type": "markdown",
   "id": "99bb1c86",
   "metadata": {
    "papermill": {
     "duration": 0.017046,
     "end_time": "2024-05-15T06:25:15.208580",
     "exception": false,
     "start_time": "2024-05-15T06:25:15.191534",
     "status": "completed"
    },
    "tags": []
   },
   "source": [
    "# Making some repairs in the data."
   ]
  },
  {
   "cell_type": "markdown",
   "id": "39450035",
   "metadata": {
    "papermill": {
     "duration": 0.017162,
     "end_time": "2024-05-15T06:25:15.243163",
     "exception": false,
     "start_time": "2024-05-15T06:25:15.226001",
     "status": "completed"
    },
    "tags": []
   },
   "source": [
    "1. Drop the columns that we don't need."
   ]
  },
  {
   "cell_type": "code",
   "execution_count": 7,
   "id": "9b2db00b",
   "metadata": {
    "execution": {
     "iopub.execute_input": "2024-05-15T06:25:15.278643Z",
     "iopub.status.busy": "2024-05-15T06:25:15.278244Z",
     "iopub.status.idle": "2024-05-15T06:25:15.286225Z",
     "shell.execute_reply": "2024-05-15T06:25:15.284924Z"
    },
    "papermill": {
     "duration": 0.028798,
     "end_time": "2024-05-15T06:25:15.288826",
     "exception": false,
     "start_time": "2024-05-15T06:25:15.260028",
     "status": "completed"
    },
    "tags": []
   },
   "outputs": [],
   "source": [
    "re.drop([\"rera\",\"propertyType\",\"type\"],axis = 1,inplace = True)"
   ]
  },
  {
   "cell_type": "code",
   "execution_count": 8,
   "id": "c2782d98",
   "metadata": {
    "execution": {
     "iopub.execute_input": "2024-05-15T06:25:15.324706Z",
     "iopub.status.busy": "2024-05-15T06:25:15.324333Z",
     "iopub.status.idle": "2024-05-15T06:25:15.339054Z",
     "shell.execute_reply": "2024-05-15T06:25:15.337654Z"
    },
    "papermill": {
     "duration": 0.035878,
     "end_time": "2024-05-15T06:25:15.341648",
     "exception": false,
     "start_time": "2024-05-15T06:25:15.305770",
     "status": "completed"
    },
    "tags": []
   },
   "outputs": [
    {
     "data": {
      "text/html": [
       "<div>\n",
       "<style scoped>\n",
       "    .dataframe tbody tr th:only-of-type {\n",
       "        vertical-align: middle;\n",
       "    }\n",
       "\n",
       "    .dataframe tbody tr th {\n",
       "        vertical-align: top;\n",
       "    }\n",
       "\n",
       "    .dataframe thead th {\n",
       "        text-align: right;\n",
       "    }\n",
       "</style>\n",
       "<table border=\"1\" class=\"dataframe\">\n",
       "  <thead>\n",
       "    <tr style=\"text-align: right;\">\n",
       "      <th></th>\n",
       "      <th>id</th>\n",
       "      <th>title</th>\n",
       "      <th>displayAddress</th>\n",
       "      <th>bathrooms</th>\n",
       "      <th>bedrooms</th>\n",
       "      <th>addedOn</th>\n",
       "      <th>price</th>\n",
       "    </tr>\n",
       "  </thead>\n",
       "  <tbody>\n",
       "    <tr>\n",
       "      <th>0</th>\n",
       "      <td>10837871</td>\n",
       "      <td>★ EXCLUSIVE RELEASE ★ | LUXURY 3 BED FLAT | GO...</td>\n",
       "      <td>Sobha One, Sobha Hartland, Mohammed Bin Rashid...</td>\n",
       "      <td>2</td>\n",
       "      <td>3</td>\n",
       "      <td>2024-01-06T17:05:24+00:00</td>\n",
       "      <td>3950000</td>\n",
       "    </tr>\n",
       "    <tr>\n",
       "      <th>1</th>\n",
       "      <td>10880180</td>\n",
       "      <td>★ BUY NOW 624,000AED ★ (20% FIRST PAYMENT + 4%...</td>\n",
       "      <td>Sobha Verde, Jumeirah Lake Towers, Dubai</td>\n",
       "      <td>2</td>\n",
       "      <td>3</td>\n",
       "      <td>2024-01-13T21:19:31+00:00</td>\n",
       "      <td>2600000</td>\n",
       "    </tr>\n",
       "    <tr>\n",
       "      <th>2</th>\n",
       "      <td>11220200</td>\n",
       "      <td>GREEN HEART OF DUBAI |URBAN DESIGN | LUXURY LI...</td>\n",
       "      <td>Park Horizon, Dubai Hills Estate, Dubai</td>\n",
       "      <td>2</td>\n",
       "      <td>3</td>\n",
       "      <td>2024-03-12T03:18:54+00:00</td>\n",
       "      <td>3450000</td>\n",
       "    </tr>\n",
       "    <tr>\n",
       "      <th>3</th>\n",
       "      <td>11176502</td>\n",
       "      <td>Prime Location | Corner Spacious Unit | Bright...</td>\n",
       "      <td>AZIZI Riviera, Meydan One, Meydan, Dubai</td>\n",
       "      <td>2</td>\n",
       "      <td>3</td>\n",
       "      <td>2024-03-04T06:53:51+00:00</td>\n",
       "      <td>2000000</td>\n",
       "    </tr>\n",
       "    <tr>\n",
       "      <th>4</th>\n",
       "      <td>11179908</td>\n",
       "      <td>Very Limited | Ideal For Investment | 40% Disc...</td>\n",
       "      <td>Verdana, Dubai Investment Park, Dubai</td>\n",
       "      <td>2</td>\n",
       "      <td>0</td>\n",
       "      <td>2024-03-04T13:24:39+00:00</td>\n",
       "      <td>284000</td>\n",
       "    </tr>\n",
       "  </tbody>\n",
       "</table>\n",
       "</div>"
      ],
      "text/plain": [
       "         id                                              title  \\\n",
       "0  10837871  ★ EXCLUSIVE RELEASE ★ | LUXURY 3 BED FLAT | GO...   \n",
       "1  10880180  ★ BUY NOW 624,000AED ★ (20% FIRST PAYMENT + 4%...   \n",
       "2  11220200  GREEN HEART OF DUBAI |URBAN DESIGN | LUXURY LI...   \n",
       "3  11176502  Prime Location | Corner Spacious Unit | Bright...   \n",
       "4  11179908  Very Limited | Ideal For Investment | 40% Disc...   \n",
       "\n",
       "                                      displayAddress  bathrooms  bedrooms  \\\n",
       "0  Sobha One, Sobha Hartland, Mohammed Bin Rashid...          2         3   \n",
       "1           Sobha Verde, Jumeirah Lake Towers, Dubai          2         3   \n",
       "2            Park Horizon, Dubai Hills Estate, Dubai          2         3   \n",
       "3           AZIZI Riviera, Meydan One, Meydan, Dubai          2         3   \n",
       "4              Verdana, Dubai Investment Park, Dubai          2         0   \n",
       "\n",
       "                     addedOn    price  \n",
       "0  2024-01-06T17:05:24+00:00  3950000  \n",
       "1  2024-01-13T21:19:31+00:00  2600000  \n",
       "2  2024-03-12T03:18:54+00:00  3450000  \n",
       "3  2024-03-04T06:53:51+00:00  2000000  \n",
       "4  2024-03-04T13:24:39+00:00   284000  "
      ]
     },
     "execution_count": 8,
     "metadata": {},
     "output_type": "execute_result"
    }
   ],
   "source": [
    "re.head()"
   ]
  },
  {
   "cell_type": "markdown",
   "id": "5853ef63",
   "metadata": {
    "execution": {
     "iopub.execute_input": "2024-04-13T19:16:27.077728Z",
     "iopub.status.busy": "2024-04-13T19:16:27.077311Z",
     "iopub.status.idle": "2024-04-13T19:16:27.084492Z",
     "shell.execute_reply": "2024-04-13T19:16:27.083195Z",
     "shell.execute_reply.started": "2024-04-13T19:16:27.077697Z"
    },
    "papermill": {
     "duration": 0.017055,
     "end_time": "2024-05-15T06:25:15.376242",
     "exception": false,
     "start_time": "2024-05-15T06:25:15.359187",
     "status": "completed"
    },
    "tags": []
   },
   "source": [
    "---"
   ]
  },
  {
   "cell_type": "markdown",
   "id": "0d3ee301",
   "metadata": {
    "papermill": {
     "duration": 0.017029,
     "end_time": "2024-05-15T06:25:15.410473",
     "exception": false,
     "start_time": "2024-05-15T06:25:15.393444",
     "status": "completed"
    },
    "tags": []
   },
   "source": [
    "2. I think there are no apartment without bedrooms so let's fix this and make all of them with 3 bedrooms."
   ]
  },
  {
   "cell_type": "code",
   "execution_count": 9,
   "id": "797c5bb7",
   "metadata": {
    "execution": {
     "iopub.execute_input": "2024-05-15T06:25:15.447138Z",
     "iopub.status.busy": "2024-05-15T06:25:15.446698Z",
     "iopub.status.idle": "2024-05-15T06:25:15.457086Z",
     "shell.execute_reply": "2024-05-15T06:25:15.455935Z"
    },
    "papermill": {
     "duration": 0.031877,
     "end_time": "2024-05-15T06:25:15.459766",
     "exception": false,
     "start_time": "2024-05-15T06:25:15.427889",
     "status": "completed"
    },
    "tags": []
   },
   "outputs": [
    {
     "data": {
      "text/plain": [
       "bedrooms\n",
       "3    351\n",
       "0    141\n",
       "Name: count, dtype: int64"
      ]
     },
     "execution_count": 9,
     "metadata": {},
     "output_type": "execute_result"
    }
   ],
   "source": [
    "re[\"bedrooms\"].value_counts()"
   ]
  },
  {
   "cell_type": "code",
   "execution_count": 10,
   "id": "93f676ca",
   "metadata": {
    "execution": {
     "iopub.execute_input": "2024-05-15T06:25:15.496532Z",
     "iopub.status.busy": "2024-05-15T06:25:15.496156Z",
     "iopub.status.idle": "2024-05-15T06:25:15.502252Z",
     "shell.execute_reply": "2024-05-15T06:25:15.501041Z"
    },
    "papermill": {
     "duration": 0.027449,
     "end_time": "2024-05-15T06:25:15.504708",
     "exception": false,
     "start_time": "2024-05-15T06:25:15.477259",
     "status": "completed"
    },
    "tags": []
   },
   "outputs": [],
   "source": [
    "re[\"bedrooms\"] = re[\"bedrooms\"].replace(0,3)"
   ]
  },
  {
   "cell_type": "code",
   "execution_count": 11,
   "id": "990c73e8",
   "metadata": {
    "execution": {
     "iopub.execute_input": "2024-05-15T06:25:15.542041Z",
     "iopub.status.busy": "2024-05-15T06:25:15.541581Z",
     "iopub.status.idle": "2024-05-15T06:25:15.550280Z",
     "shell.execute_reply": "2024-05-15T06:25:15.549024Z"
    },
    "papermill": {
     "duration": 0.030723,
     "end_time": "2024-05-15T06:25:15.552882",
     "exception": false,
     "start_time": "2024-05-15T06:25:15.522159",
     "status": "completed"
    },
    "tags": []
   },
   "outputs": [
    {
     "data": {
      "text/plain": [
       "bedrooms\n",
       "3    492\n",
       "Name: count, dtype: int64"
      ]
     },
     "execution_count": 11,
     "metadata": {},
     "output_type": "execute_result"
    }
   ],
   "source": [
    "re[\"bedrooms\"].value_counts()"
   ]
  },
  {
   "cell_type": "markdown",
   "id": "7235758a",
   "metadata": {
    "papermill": {
     "duration": 0.017355,
     "end_time": "2024-05-15T06:25:15.588067",
     "exception": false,
     "start_time": "2024-05-15T06:25:15.570712",
     "status": "completed"
    },
    "tags": []
   },
   "source": [
    "---"
   ]
  },
  {
   "cell_type": "markdown",
   "id": "8a8afccd",
   "metadata": {
    "papermill": {
     "duration": 0.017843,
     "end_time": "2024-05-15T06:25:15.623463",
     "exception": false,
     "start_time": "2024-05-15T06:25:15.605620",
     "status": "completed"
    },
    "tags": []
   },
   "source": [
    "3. Making a function to extract the name of the city from the \"displayAddress\" column and put them in a new column."
   ]
  },
  {
   "cell_type": "code",
   "execution_count": 12,
   "id": "92a2e51e",
   "metadata": {
    "execution": {
     "iopub.execute_input": "2024-05-15T06:25:15.661252Z",
     "iopub.status.busy": "2024-05-15T06:25:15.660796Z",
     "iopub.status.idle": "2024-05-15T06:25:15.666903Z",
     "shell.execute_reply": "2024-05-15T06:25:15.665545Z"
    },
    "papermill": {
     "duration": 0.027994,
     "end_time": "2024-05-15T06:25:15.669428",
     "exception": false,
     "start_time": "2024-05-15T06:25:15.641434",
     "status": "completed"
    },
    "tags": []
   },
   "outputs": [],
   "source": [
    "known_cities = [\"Dubai\", \"Abu Dhabi\", \"Sharjah\", \"Ajman\", \"Ras Al Khaimah\", \"Fujairah\", \"Umm Al Quwain\", \"Al Ain\"]\n",
    "def extract(address) :\n",
    "    for city in known_cities :\n",
    "        if city in address :\n",
    "            return city\n",
    "        "
   ]
  },
  {
   "cell_type": "code",
   "execution_count": 13,
   "id": "083989e9",
   "metadata": {
    "execution": {
     "iopub.execute_input": "2024-05-15T06:25:15.706724Z",
     "iopub.status.busy": "2024-05-15T06:25:15.706339Z",
     "iopub.status.idle": "2024-05-15T06:25:15.712979Z",
     "shell.execute_reply": "2024-05-15T06:25:15.711764Z"
    },
    "papermill": {
     "duration": 0.028347,
     "end_time": "2024-05-15T06:25:15.715418",
     "exception": false,
     "start_time": "2024-05-15T06:25:15.687071",
     "status": "completed"
    },
    "tags": []
   },
   "outputs": [],
   "source": [
    "re[\"city\"] = re[\"displayAddress\"].apply(extract)"
   ]
  },
  {
   "cell_type": "code",
   "execution_count": 14,
   "id": "e25678d2",
   "metadata": {
    "execution": {
     "iopub.execute_input": "2024-05-15T06:25:15.753298Z",
     "iopub.status.busy": "2024-05-15T06:25:15.752904Z",
     "iopub.status.idle": "2024-05-15T06:25:15.767577Z",
     "shell.execute_reply": "2024-05-15T06:25:15.766407Z"
    },
    "papermill": {
     "duration": 0.036785,
     "end_time": "2024-05-15T06:25:15.770080",
     "exception": false,
     "start_time": "2024-05-15T06:25:15.733295",
     "status": "completed"
    },
    "tags": []
   },
   "outputs": [
    {
     "data": {
      "text/html": [
       "<div>\n",
       "<style scoped>\n",
       "    .dataframe tbody tr th:only-of-type {\n",
       "        vertical-align: middle;\n",
       "    }\n",
       "\n",
       "    .dataframe tbody tr th {\n",
       "        vertical-align: top;\n",
       "    }\n",
       "\n",
       "    .dataframe thead th {\n",
       "        text-align: right;\n",
       "    }\n",
       "</style>\n",
       "<table border=\"1\" class=\"dataframe\">\n",
       "  <thead>\n",
       "    <tr style=\"text-align: right;\">\n",
       "      <th></th>\n",
       "      <th>id</th>\n",
       "      <th>title</th>\n",
       "      <th>displayAddress</th>\n",
       "      <th>bathrooms</th>\n",
       "      <th>bedrooms</th>\n",
       "      <th>addedOn</th>\n",
       "      <th>price</th>\n",
       "      <th>city</th>\n",
       "    </tr>\n",
       "  </thead>\n",
       "  <tbody>\n",
       "    <tr>\n",
       "      <th>0</th>\n",
       "      <td>10837871</td>\n",
       "      <td>★ EXCLUSIVE RELEASE ★ | LUXURY 3 BED FLAT | GO...</td>\n",
       "      <td>Sobha One, Sobha Hartland, Mohammed Bin Rashid...</td>\n",
       "      <td>2</td>\n",
       "      <td>3</td>\n",
       "      <td>2024-01-06T17:05:24+00:00</td>\n",
       "      <td>3950000</td>\n",
       "      <td>Dubai</td>\n",
       "    </tr>\n",
       "    <tr>\n",
       "      <th>1</th>\n",
       "      <td>10880180</td>\n",
       "      <td>★ BUY NOW 624,000AED ★ (20% FIRST PAYMENT + 4%...</td>\n",
       "      <td>Sobha Verde, Jumeirah Lake Towers, Dubai</td>\n",
       "      <td>2</td>\n",
       "      <td>3</td>\n",
       "      <td>2024-01-13T21:19:31+00:00</td>\n",
       "      <td>2600000</td>\n",
       "      <td>Dubai</td>\n",
       "    </tr>\n",
       "    <tr>\n",
       "      <th>2</th>\n",
       "      <td>11220200</td>\n",
       "      <td>GREEN HEART OF DUBAI |URBAN DESIGN | LUXURY LI...</td>\n",
       "      <td>Park Horizon, Dubai Hills Estate, Dubai</td>\n",
       "      <td>2</td>\n",
       "      <td>3</td>\n",
       "      <td>2024-03-12T03:18:54+00:00</td>\n",
       "      <td>3450000</td>\n",
       "      <td>Dubai</td>\n",
       "    </tr>\n",
       "    <tr>\n",
       "      <th>3</th>\n",
       "      <td>11176502</td>\n",
       "      <td>Prime Location | Corner Spacious Unit | Bright...</td>\n",
       "      <td>AZIZI Riviera, Meydan One, Meydan, Dubai</td>\n",
       "      <td>2</td>\n",
       "      <td>3</td>\n",
       "      <td>2024-03-04T06:53:51+00:00</td>\n",
       "      <td>2000000</td>\n",
       "      <td>Dubai</td>\n",
       "    </tr>\n",
       "    <tr>\n",
       "      <th>4</th>\n",
       "      <td>11179908</td>\n",
       "      <td>Very Limited | Ideal For Investment | 40% Disc...</td>\n",
       "      <td>Verdana, Dubai Investment Park, Dubai</td>\n",
       "      <td>2</td>\n",
       "      <td>3</td>\n",
       "      <td>2024-03-04T13:24:39+00:00</td>\n",
       "      <td>284000</td>\n",
       "      <td>Dubai</td>\n",
       "    </tr>\n",
       "  </tbody>\n",
       "</table>\n",
       "</div>"
      ],
      "text/plain": [
       "         id                                              title  \\\n",
       "0  10837871  ★ EXCLUSIVE RELEASE ★ | LUXURY 3 BED FLAT | GO...   \n",
       "1  10880180  ★ BUY NOW 624,000AED ★ (20% FIRST PAYMENT + 4%...   \n",
       "2  11220200  GREEN HEART OF DUBAI |URBAN DESIGN | LUXURY LI...   \n",
       "3  11176502  Prime Location | Corner Spacious Unit | Bright...   \n",
       "4  11179908  Very Limited | Ideal For Investment | 40% Disc...   \n",
       "\n",
       "                                      displayAddress  bathrooms  bedrooms  \\\n",
       "0  Sobha One, Sobha Hartland, Mohammed Bin Rashid...          2         3   \n",
       "1           Sobha Verde, Jumeirah Lake Towers, Dubai          2         3   \n",
       "2            Park Horizon, Dubai Hills Estate, Dubai          2         3   \n",
       "3           AZIZI Riviera, Meydan One, Meydan, Dubai          2         3   \n",
       "4              Verdana, Dubai Investment Park, Dubai          2         3   \n",
       "\n",
       "                     addedOn    price   city  \n",
       "0  2024-01-06T17:05:24+00:00  3950000  Dubai  \n",
       "1  2024-01-13T21:19:31+00:00  2600000  Dubai  \n",
       "2  2024-03-12T03:18:54+00:00  3450000  Dubai  \n",
       "3  2024-03-04T06:53:51+00:00  2000000  Dubai  \n",
       "4  2024-03-04T13:24:39+00:00   284000  Dubai  "
      ]
     },
     "execution_count": 14,
     "metadata": {},
     "output_type": "execute_result"
    }
   ],
   "source": [
    "re.head()"
   ]
  },
  {
   "cell_type": "markdown",
   "id": "ae13dc03",
   "metadata": {
    "papermill": {
     "duration": 0.017698,
     "end_time": "2024-05-15T06:25:15.867469",
     "exception": false,
     "start_time": "2024-05-15T06:25:15.849771",
     "status": "completed"
    },
    "tags": []
   },
   "source": [
    "---\n",
    "---"
   ]
  },
  {
   "cell_type": "markdown",
   "id": "47b1a5fe",
   "metadata": {
    "papermill": {
     "duration": 0.017823,
     "end_time": "2024-05-15T06:25:15.903409",
     "exception": false,
     "start_time": "2024-05-15T06:25:15.885586",
     "status": "completed"
    },
    "tags": []
   },
   "source": [
    "# Let's do some visualizations that give us some infomation."
   ]
  },
  {
   "cell_type": "markdown",
   "id": "41db0e91",
   "metadata": {
    "papermill": {
     "duration": 0.017797,
     "end_time": "2024-05-15T06:25:15.939449",
     "exception": false,
     "start_time": "2024-05-15T06:25:15.921652",
     "status": "completed"
    },
    "tags": []
   },
   "source": [
    "1. knowing the number of apartments that are offered in each city."
   ]
  },
  {
   "cell_type": "code",
   "execution_count": 15,
   "id": "8e6a3d77",
   "metadata": {
    "execution": {
     "iopub.execute_input": "2024-05-15T06:25:15.977509Z",
     "iopub.status.busy": "2024-05-15T06:25:15.977135Z",
     "iopub.status.idle": "2024-05-15T06:25:15.986060Z",
     "shell.execute_reply": "2024-05-15T06:25:15.984796Z"
    },
    "papermill": {
     "duration": 0.031023,
     "end_time": "2024-05-15T06:25:15.988486",
     "exception": false,
     "start_time": "2024-05-15T06:25:15.957463",
     "status": "completed"
    },
    "tags": []
   },
   "outputs": [
    {
     "data": {
      "text/plain": [
       "city\n",
       "Dubai             307\n",
       "Abu Dhabi         122\n",
       "Sharjah            43\n",
       "Ras Al Khaimah     14\n",
       "Ajman               6\n",
       "Name: count, dtype: int64"
      ]
     },
     "execution_count": 15,
     "metadata": {},
     "output_type": "execute_result"
    }
   ],
   "source": [
    "re[\"city\"].value_counts()"
   ]
  },
  {
   "cell_type": "code",
   "execution_count": 16,
   "id": "9fdbb831",
   "metadata": {
    "execution": {
     "iopub.execute_input": "2024-05-15T06:25:16.028893Z",
     "iopub.status.busy": "2024-05-15T06:25:16.028482Z",
     "iopub.status.idle": "2024-05-15T06:25:16.462317Z",
     "shell.execute_reply": "2024-05-15T06:25:16.461434Z"
    },
    "papermill": {
     "duration": 0.455932,
     "end_time": "2024-05-15T06:25:16.464698",
     "exception": false,
     "start_time": "2024-05-15T06:25:16.008766",
     "status": "completed"
    },
    "tags": []
   },
   "outputs": [
    {
     "data": {
      "image/png": "[encoded data removed]",
      "text/plain": [
       "<Figure size 1200x700 with 1 Axes>"
      ]
     },
     "metadata": {},
     "output_type": "display_data"
    }
   ],
   "source": [
    "num = re[\"city\"].value_counts().plot(kind = \"bar\" , figsize = (12,7), color = \"lightblue\")\n",
    "num.bar_label(num.containers[0], padding = 5)\n",
    "plt.xticks(rotation = 45)\n",
    "plt.grid(axis ='y')\n",
    "plt.show()"
   ]
  },
  {
   "cell_type": "markdown",
   "id": "f9d95080",
   "metadata": {
    "papermill": {
     "duration": 0.01839,
     "end_time": "2024-05-15T06:25:16.501822",
     "exception": false,
     "start_time": "2024-05-15T06:25:16.483432",
     "status": "completed"
    },
    "tags": []
   },
   "source": [
    "---"
   ]
  },
  {
   "cell_type": "markdown",
   "id": "8d0a6921",
   "metadata": {
    "papermill": {
     "duration": 0.018416,
     "end_time": "2024-05-15T06:25:16.538882",
     "exception": false,
     "start_time": "2024-05-15T06:25:16.520466",
     "status": "completed"
    },
    "tags": []
   },
   "source": [
    "2. knowing the mean of the price in each city."
   ]
  },
  {
   "cell_type": "code",
   "execution_count": 17,
   "id": "f2b05f27",
   "metadata": {
    "execution": {
     "iopub.execute_input": "2024-05-15T06:25:16.578892Z",
     "iopub.status.busy": "2024-05-15T06:25:16.577656Z",
     "iopub.status.idle": "2024-05-15T06:25:16.590508Z",
     "shell.execute_reply": "2024-05-15T06:25:16.589610Z"
    },
    "papermill": {
     "duration": 0.035265,
     "end_time": "2024-05-15T06:25:16.592809",
     "exception": false,
     "start_time": "2024-05-15T06:25:16.557544",
     "status": "completed"
    },
    "tags": []
   },
   "outputs": [
    {
     "data": {
      "text/plain": [
       "city\n",
       "Ras Al Khaimah    2.812817e+06\n",
       "Dubai             2.587409e+06\n",
       "Abu Dhabi         1.411759e+06\n",
       "Sharjah           1.348680e+06\n",
       "Ajman             3.286667e+05\n",
       "Name: price, dtype: float64"
      ]
     },
     "execution_count": 17,
     "metadata": {},
     "output_type": "execute_result"
    }
   ],
   "source": [
    "re.groupby(\"city\")[\"price\"].mean().sort_values(ascending=False)"
   ]
  },
  {
   "cell_type": "code",
   "execution_count": 18,
   "id": "9d295d59",
   "metadata": {
    "execution": {
     "iopub.execute_input": "2024-05-15T06:25:16.632908Z",
     "iopub.status.busy": "2024-05-15T06:25:16.631725Z",
     "iopub.status.idle": "2024-05-15T06:25:16.896607Z",
     "shell.execute_reply": "2024-05-15T06:25:16.895297Z"
    },
    "papermill": {
     "duration": 0.287681,
     "end_time": "2024-05-15T06:25:16.899290",
     "exception": false,
     "start_time": "2024-05-15T06:25:16.611609",
     "status": "completed"
    },
    "tags": []
   },
   "outputs": [
    {
     "data": {
      "image/png": "[encoded data removed]",
      "text/plain": [
       "<Figure size 1200x600 with 1 Axes>"
      ]
     },
     "metadata": {},
     "output_type": "display_data"
    }
   ],
   "source": [
    "re.groupby(\"city\")[\"price\"].mean().sort_values()[::-1].plot(kind = \"bar\" , color = \"lightgreen\", figsize = (12,6))\n",
    "plt.xticks(rotation =45)\n",
    "plt.show()"
   ]
  },
  {
   "cell_type": "markdown",
   "id": "15f3fc17",
   "metadata": {
    "papermill": {
     "duration": 0.019297,
     "end_time": "2024-05-15T06:25:16.938038",
     "exception": false,
     "start_time": "2024-05-15T06:25:16.918741",
     "status": "completed"
    },
    "tags": []
   },
   "source": [
    "---"
   ]
  },
  {
   "cell_type": "markdown",
   "id": "a5f0eb42",
   "metadata": {
    "papermill": {
     "duration": 0.021477,
     "end_time": "2024-05-15T06:25:16.979503",
     "exception": false,
     "start_time": "2024-05-15T06:25:16.958026",
     "status": "completed"
    },
    "tags": []
   },
   "source": [
    "3. Knowing the distribution of the price."
   ]
  },
  {
   "cell_type": "code",
   "execution_count": 19,
   "id": "a4d8b75c",
   "metadata": {
    "execution": {
     "iopub.execute_input": "2024-05-15T06:25:17.035452Z",
     "iopub.status.busy": "2024-05-15T06:25:17.035012Z",
     "iopub.status.idle": "2024-05-15T06:25:17.452319Z",
     "shell.execute_reply": "2024-05-15T06:25:17.450941Z"
    },
    "papermill": {
     "duration": 0.449176,
     "end_time": "2024-05-15T06:25:17.455057",
     "exception": false,
     "start_time": "2024-05-15T06:25:17.005881",
     "status": "completed"
    },
    "tags": []
   },
   "outputs": [
    {
     "data": {
      "text/plain": [
       "<Axes: title={'center': 'price'}, xlabel='[city]'>"
      ]
     },
     "execution_count": 19,
     "metadata": {},
     "output_type": "execute_result"
    },
    {
     "data": {
      "image/png": "[encoded data removed]",
      "text/plain": [
       "<Figure size 640x480 with 1 Axes>"
      ]
     },
     "metadata": {},
     "output_type": "display_data"
    }
   ],
   "source": [
    "re[[\"city\",\"price\"]].boxplot(by = \"city\")"
   ]
  },
  {
   "cell_type": "markdown",
   "id": "e0643f3b",
   "metadata": {
    "papermill": {
     "duration": 0.01976,
     "end_time": "2024-05-15T06:25:17.497293",
     "exception": false,
     "start_time": "2024-05-15T06:25:17.477533",
     "status": "completed"
    },
    "tags": []
   },
   "source": [
    "We notice above that there are some outliers in Abu Dhabi and Ajman and Dubai."
   ]
  },
  {
   "cell_type": "markdown",
   "id": "3573633e",
   "metadata": {
    "papermill": {
     "duration": 0.019634,
     "end_time": "2024-05-15T06:25:17.537011",
     "exception": false,
     "start_time": "2024-05-15T06:25:17.517377",
     "status": "completed"
    },
    "tags": []
   },
   "source": [
    "Let's find out the outliers in Dubai that are more than the usual range."
   ]
  },
  {
   "cell_type": "code",
   "execution_count": 20,
   "id": "4c8b0e0b",
   "metadata": {
    "execution": {
     "iopub.execute_input": "2024-05-15T06:25:17.578904Z",
     "iopub.status.busy": "2024-05-15T06:25:17.578507Z",
     "iopub.status.idle": "2024-05-15T06:25:17.591068Z",
     "shell.execute_reply": "2024-05-15T06:25:17.589924Z"
    },
    "papermill": {
     "duration": 0.036255,
     "end_time": "2024-05-15T06:25:17.593343",
     "exception": false,
     "start_time": "2024-05-15T06:25:17.557088",
     "status": "completed"
    },
    "tags": []
   },
   "outputs": [
    {
     "data": {
      "text/plain": [
       "count    3.070000e+02\n",
       "mean     2.587409e+06\n",
       "std      2.458281e+06\n",
       "min      2.480000e+05\n",
       "25%      7.495000e+05\n",
       "50%      1.800630e+06\n",
       "75%      3.225000e+06\n",
       "max      1.450000e+07\n",
       "Name: price, dtype: float64"
      ]
     },
     "execution_count": 20,
     "metadata": {},
     "output_type": "execute_result"
    }
   ],
   "source": [
    "re.loc[re[\"city\"]==\"Dubai\",\"price\"].describe()"
   ]
  },
  {
   "cell_type": "code",
   "execution_count": 21,
   "id": "a326f26a",
   "metadata": {
    "execution": {
     "iopub.execute_input": "2024-05-15T06:25:17.635521Z",
     "iopub.status.busy": "2024-05-15T06:25:17.635090Z",
     "iopub.status.idle": "2024-05-15T06:25:17.644691Z",
     "shell.execute_reply": "2024-05-15T06:25:17.643478Z"
    },
    "papermill": {
     "duration": 0.03351,
     "end_time": "2024-05-15T06:25:17.647062",
     "exception": false,
     "start_time": "2024-05-15T06:25:17.613552",
     "status": "completed"
    },
    "tags": []
   },
   "outputs": [
    {
     "data": {
      "text/plain": [
       "3225000.0"
      ]
     },
     "execution_count": 21,
     "metadata": {},
     "output_type": "execute_result"
    }
   ],
   "source": [
    "re.loc[re[\"city\"]==\"Dubai\",\"price\"].quantile(.75)"
   ]
  },
  {
   "cell_type": "markdown",
   "id": "995e18bf",
   "metadata": {
    "papermill": {
     "duration": 0.020062,
     "end_time": "2024-05-15T06:25:17.687598",
     "exception": false,
     "start_time": "2024-05-15T06:25:17.667536",
     "status": "completed"
    },
    "tags": []
   },
   "source": [
    "The number of apartmens that their price is more than usual is:"
   ]
  },
  {
   "cell_type": "code",
   "execution_count": 22,
   "id": "54c6fb26",
   "metadata": {
    "execution": {
     "iopub.execute_input": "2024-05-15T06:25:17.730232Z",
     "iopub.status.busy": "2024-05-15T06:25:17.729772Z",
     "iopub.status.idle": "2024-05-15T06:25:17.739289Z",
     "shell.execute_reply": "2024-05-15T06:25:17.738124Z"
    },
    "papermill": {
     "duration": 0.03368,
     "end_time": "2024-05-15T06:25:17.741621",
     "exception": false,
     "start_time": "2024-05-15T06:25:17.707941",
     "status": "completed"
    },
    "tags": []
   },
   "outputs": [
    {
     "data": {
      "text/plain": [
       "77"
      ]
     },
     "execution_count": 22,
     "metadata": {},
     "output_type": "execute_result"
    }
   ],
   "source": [
    "re.loc[(re[\"city\"]== \"Dubai\") & (re[\"price\"] > 3225000.0)].shape[0]"
   ]
  },
  {
   "cell_type": "markdown",
   "id": "5d88deb5",
   "metadata": {
    "papermill": {
     "duration": 0.027334,
     "end_time": "2024-05-15T06:25:17.790657",
     "exception": false,
     "start_time": "2024-05-15T06:25:17.763323",
     "status": "completed"
    },
    "tags": []
   },
   "source": [
    "---\n",
    "---"
   ]
  },
  {
   "cell_type": "markdown",
   "id": "5bb0f8b2",
   "metadata": {
    "papermill": {
     "duration": 0.021949,
     "end_time": "2024-05-15T06:25:17.834873",
     "exception": false,
     "start_time": "2024-05-15T06:25:17.812924",
     "status": "completed"
    },
    "tags": []
   },
   "source": [
    "Let's find out the outliers in Abu Dhabi that are more and less than the usual range."
   ]
  },
  {
   "cell_type": "code",
   "execution_count": 23,
   "id": "0214c147",
   "metadata": {
    "execution": {
     "iopub.execute_input": "2024-05-15T06:25:17.881983Z",
     "iopub.status.busy": "2024-05-15T06:25:17.881368Z",
     "iopub.status.idle": "2024-05-15T06:25:18.273632Z",
     "shell.execute_reply": "2024-05-15T06:25:18.272103Z"
    },
    "papermill": {
     "duration": 0.418025,
     "end_time": "2024-05-15T06:25:18.276237",
     "exception": false,
     "start_time": "2024-05-15T06:25:17.858212",
     "status": "completed"
    },
    "tags": []
   },
   "outputs": [
    {
     "data": {
      "image/png": "[encoded data removed]",
      "text/plain": [
       "<Figure size 640x480 with 1 Axes>"
      ]
     },
     "metadata": {},
     "output_type": "display_data"
    }
   ],
   "source": [
    "re[[\"city\",\"price\"]].plot(kind = \"box\",by = \"city\")\n",
    "plt.grid(axis = \"both\")\n"
   ]
  },
  {
   "cell_type": "code",
   "execution_count": 24,
   "id": "c2b228d6",
   "metadata": {
    "execution": {
     "iopub.execute_input": "2024-05-15T06:25:18.320577Z",
     "iopub.status.busy": "2024-05-15T06:25:18.320181Z",
     "iopub.status.idle": "2024-05-15T06:25:18.332213Z",
     "shell.execute_reply": "2024-05-15T06:25:18.330988Z"
    },
    "papermill": {
     "duration": 0.037112,
     "end_time": "2024-05-15T06:25:18.334545",
     "exception": false,
     "start_time": "2024-05-15T06:25:18.297433",
     "status": "completed"
    },
    "tags": []
   },
   "outputs": [
    {
     "data": {
      "text/plain": [
       "count    1.220000e+02\n",
       "mean     1.411759e+06\n",
       "std      1.051833e+06\n",
       "min      3.200000e+05\n",
       "25%      1.118650e+06\n",
       "50%      1.200000e+06\n",
       "75%      1.382250e+06\n",
       "max      1.100000e+07\n",
       "Name: price, dtype: float64"
      ]
     },
     "execution_count": 24,
     "metadata": {},
     "output_type": "execute_result"
    }
   ],
   "source": [
    "re.loc[re[\"city\"]==\"Abu Dhabi\",\"price\"].describe()"
   ]
  },
  {
   "cell_type": "code",
   "execution_count": 25,
   "id": "dc56957c",
   "metadata": {
    "execution": {
     "iopub.execute_input": "2024-05-15T06:25:18.381083Z",
     "iopub.status.busy": "2024-05-15T06:25:18.379907Z",
     "iopub.status.idle": "2024-05-15T06:25:18.390413Z",
     "shell.execute_reply": "2024-05-15T06:25:18.389233Z"
    },
    "papermill": {
     "duration": 0.036218,
     "end_time": "2024-05-15T06:25:18.392888",
     "exception": false,
     "start_time": "2024-05-15T06:25:18.356670",
     "status": "completed"
    },
    "tags": []
   },
   "outputs": [
    {
     "data": {
      "text/plain": [
       "1118650.0"
      ]
     },
     "execution_count": 25,
     "metadata": {},
     "output_type": "execute_result"
    }
   ],
   "source": [
    "re.loc[re[\"city\"]==\"Abu Dhabi\",\"price\"].quantile(.25)"
   ]
  },
  {
   "cell_type": "code",
   "execution_count": 26,
   "id": "41a33810",
   "metadata": {
    "execution": {
     "iopub.execute_input": "2024-05-15T06:25:18.439243Z",
     "iopub.status.busy": "2024-05-15T06:25:18.438406Z",
     "iopub.status.idle": "2024-05-15T06:25:18.447813Z",
     "shell.execute_reply": "2024-05-15T06:25:18.446568Z"
    },
    "papermill": {
     "duration": 0.03533,
     "end_time": "2024-05-15T06:25:18.450283",
     "exception": false,
     "start_time": "2024-05-15T06:25:18.414953",
     "status": "completed"
    },
    "tags": []
   },
   "outputs": [
    {
     "data": {
      "text/plain": [
       "31"
      ]
     },
     "execution_count": 26,
     "metadata": {},
     "output_type": "execute_result"
    }
   ],
   "source": [
    "re.loc[(re[\"city\"]== \"Abu Dhabi\") & (re[\"price\"] < 1118650.0)].shape[0]"
   ]
  },
  {
   "cell_type": "markdown",
   "id": "e9c13f83",
   "metadata": {
    "execution": {
     "iopub.execute_input": "2024-05-10T06:53:04.235956Z",
     "iopub.status.busy": "2024-05-10T06:53:04.235179Z",
     "iopub.status.idle": "2024-05-10T06:53:04.243266Z",
     "shell.execute_reply": "2024-05-10T06:53:04.241676Z",
     "shell.execute_reply.started": "2024-05-10T06:53:04.235919Z"
    },
    "papermill": {
     "duration": 0.022541,
     "end_time": "2024-05-15T06:25:18.494289",
     "exception": false,
     "start_time": "2024-05-15T06:25:18.471748",
     "status": "completed"
    },
    "tags": []
   },
   "source": [
    "The outliers in Abu Dhabi that are more than the usual range : 31"
   ]
  },
  {
   "cell_type": "code",
   "execution_count": 27,
   "id": "6c023be8",
   "metadata": {
    "execution": {
     "iopub.execute_input": "2024-05-15T06:25:18.539459Z",
     "iopub.status.busy": "2024-05-15T06:25:18.539054Z",
     "iopub.status.idle": "2024-05-15T06:25:18.548936Z",
     "shell.execute_reply": "2024-05-15T06:25:18.547774Z"
    },
    "papermill": {
     "duration": 0.035486,
     "end_time": "2024-05-15T06:25:18.551531",
     "exception": false,
     "start_time": "2024-05-15T06:25:18.516045",
     "status": "completed"
    },
    "tags": []
   },
   "outputs": [
    {
     "data": {
      "text/plain": [
       "1382250.0"
      ]
     },
     "execution_count": 27,
     "metadata": {},
     "output_type": "execute_result"
    }
   ],
   "source": [
    "re.loc[re[\"city\"]==\"Abu Dhabi\",\"price\"].quantile(.75)"
   ]
  },
  {
   "cell_type": "code",
   "execution_count": 28,
   "id": "ef061899",
   "metadata": {
    "execution": {
     "iopub.execute_input": "2024-05-15T06:25:18.598642Z",
     "iopub.status.busy": "2024-05-15T06:25:18.597756Z",
     "iopub.status.idle": "2024-05-15T06:25:18.607302Z",
     "shell.execute_reply": "2024-05-15T06:25:18.606024Z"
    },
    "papermill": {
     "duration": 0.036211,
     "end_time": "2024-05-15T06:25:18.609769",
     "exception": false,
     "start_time": "2024-05-15T06:25:18.573558",
     "status": "completed"
    },
    "tags": []
   },
   "outputs": [
    {
     "data": {
      "text/plain": [
       "31"
      ]
     },
     "execution_count": 28,
     "metadata": {},
     "output_type": "execute_result"
    }
   ],
   "source": [
    "re.loc[(re[\"city\"]== \"Abu Dhabi\") & (re[\"price\"] > 1382250.0)].shape[0]"
   ]
  },
  {
   "cell_type": "markdown",
   "id": "4e1ee9b2",
   "metadata": {
    "papermill": {
     "duration": 0.021804,
     "end_time": "2024-05-15T06:25:18.653538",
     "exception": false,
     "start_time": "2024-05-15T06:25:18.631734",
     "status": "completed"
    },
    "tags": []
   },
   "source": [
    "The outliers in Abu Dhabi that are less than the usual range : 31"
   ]
  },
  {
   "cell_type": "markdown",
   "id": "4e55856e",
   "metadata": {
    "papermill": {
     "duration": 0.021687,
     "end_time": "2024-05-15T06:25:18.697104",
     "exception": false,
     "start_time": "2024-05-15T06:25:18.675417",
     "status": "completed"
    },
    "tags": []
   },
   "source": [
    "The total of outliers in Abu Dhabi is 62"
   ]
  },
  {
   "cell_type": "markdown",
   "id": "1d154a2f",
   "metadata": {
    "papermill": {
     "duration": 0.021712,
     "end_time": "2024-05-15T06:25:18.741020",
     "exception": false,
     "start_time": "2024-05-15T06:25:18.719308",
     "status": "completed"
    },
    "tags": []
   },
   "source": [
    "---\n",
    "---"
   ]
  },
  {
   "cell_type": "markdown",
   "id": "5a7aa089",
   "metadata": {
    "papermill": {
     "duration": 0.021916,
     "end_time": "2024-05-15T06:25:18.785091",
     "exception": false,
     "start_time": "2024-05-15T06:25:18.763175",
     "status": "completed"
    },
    "tags": []
   },
   "source": [
    "Let's find out the outliers in Ajman that are more than the usual range."
   ]
  },
  {
   "cell_type": "code",
   "execution_count": 29,
   "id": "c4a0365c",
   "metadata": {
    "execution": {
     "iopub.execute_input": "2024-05-15T06:25:18.831432Z",
     "iopub.status.busy": "2024-05-15T06:25:18.831028Z",
     "iopub.status.idle": "2024-05-15T06:25:19.218002Z",
     "shell.execute_reply": "2024-05-15T06:25:19.216703Z"
    },
    "papermill": {
     "duration": 0.41359,
     "end_time": "2024-05-15T06:25:19.220627",
     "exception": false,
     "start_time": "2024-05-15T06:25:18.807037",
     "status": "completed"
    },
    "tags": []
   },
   "outputs": [
    {
     "data": {
      "text/plain": [
       "<Axes: title={'center': 'price'}, xlabel='[city]'>"
      ]
     },
     "execution_count": 29,
     "metadata": {},
     "output_type": "execute_result"
    },
    {
     "data": {
      "image/png": "[encoded data removed]",
      "text/plain": [
       "<Figure size 640x480 with 1 Axes>"
      ]
     },
     "metadata": {},
     "output_type": "display_data"
    }
   ],
   "source": [
    "re[[\"city\",\"price\"]].boxplot(by=\"city\")"
   ]
  },
  {
   "cell_type": "code",
   "execution_count": 30,
   "id": "12f327e3",
   "metadata": {
    "execution": {
     "iopub.execute_input": "2024-05-15T06:25:19.268875Z",
     "iopub.status.busy": "2024-05-15T06:25:19.268424Z",
     "iopub.status.idle": "2024-05-15T06:25:19.280633Z",
     "shell.execute_reply": "2024-05-15T06:25:19.279710Z"
    },
    "papermill": {
     "duration": 0.039231,
     "end_time": "2024-05-15T06:25:19.282770",
     "exception": false,
     "start_time": "2024-05-15T06:25:19.243539",
     "status": "completed"
    },
    "tags": []
   },
   "outputs": [
    {
     "data": {
      "text/plain": [
       "count         6.000000\n",
       "mean     328666.666667\n",
       "std      182103.999590\n",
       "min      233000.000000\n",
       "25%      247500.000000\n",
       "50%      257500.000000\n",
       "75%      275000.000000\n",
       "max      699000.000000\n",
       "Name: price, dtype: float64"
      ]
     },
     "execution_count": 30,
     "metadata": {},
     "output_type": "execute_result"
    }
   ],
   "source": [
    "re.loc[re[\"city\"]==\"Ajman\",\"price\"].describe()"
   ]
  },
  {
   "cell_type": "code",
   "execution_count": 31,
   "id": "b5ae718f",
   "metadata": {
    "execution": {
     "iopub.execute_input": "2024-05-15T06:25:19.331558Z",
     "iopub.status.busy": "2024-05-15T06:25:19.330355Z",
     "iopub.status.idle": "2024-05-15T06:25:19.340332Z",
     "shell.execute_reply": "2024-05-15T06:25:19.338920Z"
    },
    "papermill": {
     "duration": 0.037368,
     "end_time": "2024-05-15T06:25:19.342989",
     "exception": false,
     "start_time": "2024-05-15T06:25:19.305621",
     "status": "completed"
    },
    "tags": []
   },
   "outputs": [
    {
     "data": {
      "text/plain": [
       "275000.0"
      ]
     },
     "execution_count": 31,
     "metadata": {},
     "output_type": "execute_result"
    }
   ],
   "source": [
    "re.loc[re[\"city\"]==\"Ajman\",\"price\"].quantile(.75)"
   ]
  },
  {
   "cell_type": "markdown",
   "id": "fe28d289",
   "metadata": {
    "papermill": {
     "duration": 0.022675,
     "end_time": "2024-05-15T06:25:19.389149",
     "exception": false,
     "start_time": "2024-05-15T06:25:19.366474",
     "status": "completed"
    },
    "tags": []
   },
   "source": [
    "The outliers in Ajman that are more than the usual range is:"
   ]
  },
  {
   "cell_type": "code",
   "execution_count": 32,
   "id": "84e489f2",
   "metadata": {
    "execution": {
     "iopub.execute_input": "2024-05-15T06:25:19.438207Z",
     "iopub.status.busy": "2024-05-15T06:25:19.437078Z",
     "iopub.status.idle": "2024-05-15T06:25:19.446715Z",
     "shell.execute_reply": "2024-05-15T06:25:19.445453Z"
    },
    "papermill": {
     "duration": 0.03688,
     "end_time": "2024-05-15T06:25:19.449108",
     "exception": false,
     "start_time": "2024-05-15T06:25:19.412228",
     "status": "completed"
    },
    "tags": []
   },
   "outputs": [
    {
     "data": {
      "text/plain": [
       "2"
      ]
     },
     "execution_count": 32,
     "metadata": {},
     "output_type": "execute_result"
    }
   ],
   "source": [
    "re.loc[(re[\"city\"]== \"Ajman\") & (re[\"price\"]> 275000)].shape[0]"
   ]
  },
  {
   "cell_type": "markdown",
   "id": "821fd9c4",
   "metadata": {
    "papermill": {
     "duration": 0.022944,
     "end_time": "2024-05-15T06:25:19.495087",
     "exception": false,
     "start_time": "2024-05-15T06:25:19.472143",
     "status": "completed"
    },
    "tags": []
   },
   "source": [
    "Thanks for reading."
   ]
  }
 ],
 "metadata": {
  "kaggle": {
   "accelerator": "none",
   "dataSources": [
    {
     "datasetId": 4609846,
     "sourceId": 7858908,
     "sourceType": "datasetVersion"
    }
   ],
   "dockerImageVersionId": 30673,
   "isGpuEnabled": false,
   "isInternetEnabled": true,
   "language": "python",
   "sourceType": "notebook"
  },
  "kernelspec": {
   "display_name": "Python 3",
   "language": "python",
   "name": "python3"
  },
  "language_info": {
   "codemirror_mode": {
    "name": "ipython",
    "version": 3
   },
   "file_extension": ".py",
   "mimetype": "text/x-python",
   "name": "python",
   "nbconvert_exporter": "python",
   "pygments_lexer": "ipython3",
   "version": "3.10.13"
  },
  "papermill": {
   "default_parameters": {},
   "duration": 11.142812,
   "end_time": "2024-05-15T06:25:20.140309",
   "environment_variables": {},
   "exception": null,
   "input_path": "__notebook__.ipynb",
   "output_path": "__notebook__.ipynb",
   "parameters": {},
   "start_time": "2024-05-15T06:25:08.997497",
   "version": "2.5.0"
  }
 },
 "nbformat": 4,
 "nbformat_minor": 5
}
