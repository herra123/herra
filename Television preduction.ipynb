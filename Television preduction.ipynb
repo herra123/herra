{
 "cells": [
  {
   "cell_type": "markdown",
   "metadata": {
    "papermill": {
     "duration": 0.024777,
     "end_time": "2021-02-07T03:15:52.271599",
     "exception": false,
     "start_time": "2021-02-07T03:15:52.246822",
     "status": "completed"
    },
    "tags": []
   },
   "source": [
    "# <font color=\"sky blue\">Simple Linear</font> Regression "
   ]
  },
  {
   "cell_type": "markdown",
   "metadata": {
    "papermill": {
     "duration": 0.024619,
     "end_time": "2021-02-07T03:15:52.321079",
     "exception": false,
     "start_time": "2021-02-07T03:15:52.296460",
     "status": "completed"
    },
    "tags": []
   },
   "source": [
    "<font color=\"blue\"><font>In this example we will consider sales based on 'TV' marketing budget. \n",
    "\n",
    "In this notebook, we'll build a linear regression model to predict 'Sales' using 'TV' as the predictor variable.\n"
   ]
  },
  {
   "cell_type": "markdown",
   "metadata": {
    "papermill": {
     "duration": 0.02384,
     "end_time": "2021-02-07T03:15:52.368767",
     "exception": false,
     "start_time": "2021-02-07T03:15:52.344927",
     "status": "completed"
    },
    "tags": []
   },
   "source": [
    "## Understanding the Data"
   ]
  },
  {
   "cell_type": "markdown",
   "metadata": {
    "papermill": {
     "duration": 0.023991,
     "end_time": "2021-02-07T03:15:52.416783",
     "exception": false,
     "start_time": "2021-02-07T03:15:52.392792",
     "status": "completed"
    },
    "tags": []
   },
   "source": [
    "Let's start with the following steps:\n",
    "\n",
    "1. Importing data using the pandas library\n",
    "2. Understanding the structure of the data"
   ]
  },
  {
   "cell_type": "code",
   "execution_count": 1,
   "metadata": {
    "execution": {
     "iopub.execute_input": "2021-02-07T03:15:52.471211Z",
     "iopub.status.busy": "2021-02-07T03:15:52.470320Z",
     "iopub.status.idle": "2021-02-07T03:15:52.474639Z",
     "shell.execute_reply": "2021-02-07T03:15:52.473890Z"
    },
    "papermill": {
     "duration": 0.033654,
     "end_time": "2021-02-07T03:15:52.474754",
     "exception": false,
     "start_time": "2021-02-07T03:15:52.441100",
     "status": "completed"
    },
    "tags": []
   },
   "outputs": [],
   "source": [
    "import pandas as pd"
   ]
  },
  {
   "cell_type": "code",
   "execution_count": 2,
   "metadata": {
    "execution": {
     "iopub.execute_input": "2021-02-07T03:15:52.540584Z",
     "iopub.status.busy": "2021-02-07T03:15:52.539845Z",
     "iopub.status.idle": "2021-02-07T03:15:52.555666Z",
     "shell.execute_reply": "2021-02-07T03:15:52.554952Z"
    },
    "papermill": {
     "duration": 0.056059,
     "end_time": "2021-02-07T03:15:52.555780",
     "exception": false,
     "start_time": "2021-02-07T03:15:52.499721",
     "status": "completed"
    },
    "tags": []
   },
   "outputs": [],
   "source": [
    "advertising = pd.read_csv(\"../input/tvmarketingcsv/tvmarketing.csv\")"
   ]
  },
  {
   "cell_type": "markdown",
   "metadata": {
    "papermill": {
     "duration": 0.024489,
     "end_time": "2021-02-07T03:15:52.605184",
     "exception": false,
     "start_time": "2021-02-07T03:15:52.580695",
     "status": "completed"
    },
    "tags": []
   },
   "source": [
    "Now, let's check the structure of the advertising dataset."
   ]
  },
  {
   "cell_type": "code",
   "execution_count": 3,
   "metadata": {
    "execution": {
     "iopub.execute_input": "2021-02-07T03:15:52.665365Z",
     "iopub.status.busy": "2021-02-07T03:15:52.664721Z",
     "iopub.status.idle": "2021-02-07T03:15:52.681966Z",
     "shell.execute_reply": "2021-02-07T03:15:52.682598Z"
    },
    "papermill": {
     "duration": 0.052639,
     "end_time": "2021-02-07T03:15:52.682729",
     "exception": false,
     "start_time": "2021-02-07T03:15:52.630090",
     "status": "completed"
    },
    "tags": []
   },
   "outputs": [
    {
     "data": {
      "text/html": [
       "<div>\n",
       "<style scoped>\n",
       "    .dataframe tbody tr th:only-of-type {\n",
       "        vertical-align: middle;\n",
       "    }\n",
       "\n",
       "    .dataframe tbody tr th {\n",
       "        vertical-align: top;\n",
       "    }\n",
       "\n",
       "    .dataframe thead th {\n",
       "        text-align: right;\n",
       "    }\n",
       "</style>\n",
       "<table border=\"1\" class=\"dataframe\">\n",
       "  <thead>\n",
       "    <tr style=\"text-align: right;\">\n",
       "      <th></th>\n",
       "      <th>TV</th>\n",
       "      <th>Sales</th>\n",
       "    </tr>\n",
       "  </thead>\n",
       "  <tbody>\n",
       "    <tr>\n",
       "      <th>0</th>\n",
       "      <td>230.1</td>\n",
       "      <td>22.1</td>\n",
       "    </tr>\n",
       "    <tr>\n",
       "      <th>1</th>\n",
       "      <td>44.5</td>\n",
       "      <td>10.4</td>\n",
       "    </tr>\n",
       "    <tr>\n",
       "      <th>2</th>\n",
       "      <td>17.2</td>\n",
       "      <td>9.3</td>\n",
       "    </tr>\n",
       "    <tr>\n",
       "      <th>3</th>\n",
       "      <td>151.5</td>\n",
       "      <td>18.5</td>\n",
       "    </tr>\n",
       "    <tr>\n",
       "      <th>4</th>\n",
       "      <td>180.8</td>\n",
       "      <td>12.9</td>\n",
       "    </tr>\n",
       "  </tbody>\n",
       "</table>\n",
       "</div>"
      ],
      "text/plain": [
       "      TV  Sales\n",
       "0  230.1   22.1\n",
       "1   44.5   10.4\n",
       "2   17.2    9.3\n",
       "3  151.5   18.5\n",
       "4  180.8   12.9"
      ]
     },
     "execution_count": 3,
     "metadata": {},
     "output_type": "execute_result"
    }
   ],
   "source": [
    "# Display the first 5 rows\n",
    "advertising.head()"
   ]
  },
  {
   "cell_type": "code",
   "execution_count": 4,
   "metadata": {
    "execution": {
     "iopub.execute_input": "2021-02-07T03:15:52.743948Z",
     "iopub.status.busy": "2021-02-07T03:15:52.743433Z",
     "iopub.status.idle": "2021-02-07T03:15:52.746654Z",
     "shell.execute_reply": "2021-02-07T03:15:52.747212Z"
    },
    "papermill": {
     "duration": 0.038188,
     "end_time": "2021-02-07T03:15:52.747353",
     "exception": false,
     "start_time": "2021-02-07T03:15:52.709165",
     "status": "completed"
    },
    "tags": []
   },
   "outputs": [
    {
     "data": {
      "text/html": [
       "<div>\n",
       "<style scoped>\n",
       "    .dataframe tbody tr th:only-of-type {\n",
       "        vertical-align: middle;\n",
       "    }\n",
       "\n",
       "    .dataframe tbody tr th {\n",
       "        vertical-align: top;\n",
       "    }\n",
       "\n",
       "    .dataframe thead th {\n",
       "        text-align: right;\n",
       "    }\n",
       "</style>\n",
       "<table border=\"1\" class=\"dataframe\">\n",
       "  <thead>\n",
       "    <tr style=\"text-align: right;\">\n",
       "      <th></th>\n",
       "      <th>TV</th>\n",
       "      <th>Sales</th>\n",
       "    </tr>\n",
       "  </thead>\n",
       "  <tbody>\n",
       "    <tr>\n",
       "      <th>195</th>\n",
       "      <td>38.2</td>\n",
       "      <td>7.6</td>\n",
       "    </tr>\n",
       "    <tr>\n",
       "      <th>196</th>\n",
       "      <td>94.2</td>\n",
       "      <td>9.7</td>\n",
       "    </tr>\n",
       "    <tr>\n",
       "      <th>197</th>\n",
       "      <td>177.0</td>\n",
       "      <td>12.8</td>\n",
       "    </tr>\n",
       "    <tr>\n",
       "      <th>198</th>\n",
       "      <td>283.6</td>\n",
       "      <td>25.5</td>\n",
       "    </tr>\n",
       "    <tr>\n",
       "      <th>199</th>\n",
       "      <td>232.1</td>\n",
       "      <td>13.4</td>\n",
       "    </tr>\n",
       "  </tbody>\n",
       "</table>\n",
       "</div>"
      ],
      "text/plain": [
       "        TV  Sales\n",
       "195   38.2    7.6\n",
       "196   94.2    9.7\n",
       "197  177.0   12.8\n",
       "198  283.6   25.5\n",
       "199  232.1   13.4"
      ]
     },
     "execution_count": 4,
     "metadata": {},
     "output_type": "execute_result"
    }
   ],
   "source": [
    "# Display the last 5 rows\n",
    "advertising.tail()"
   ]
  },
  {
   "cell_type": "code",
   "execution_count": 5,
   "metadata": {
    "execution": {
     "iopub.execute_input": "2021-02-07T03:15:52.802243Z",
     "iopub.status.busy": "2021-02-07T03:15:52.801608Z",
     "iopub.status.idle": "2021-02-07T03:15:52.814569Z",
     "shell.execute_reply": "2021-02-07T03:15:52.815425Z"
    },
    "papermill": {
     "duration": 0.04212,
     "end_time": "2021-02-07T03:15:52.815605",
     "exception": false,
     "start_time": "2021-02-07T03:15:52.773485",
     "status": "completed"
    },
    "tags": []
   },
   "outputs": [
    {
     "name": "stdout",
     "output_type": "stream",
     "text": [
      "<class 'pandas.core.frame.DataFrame'>\n",
      "RangeIndex: 200 entries, 0 to 199\n",
      "Data columns (total 2 columns):\n",
      " #   Column  Non-Null Count  Dtype  \n",
      "---  ------  --------------  -----  \n",
      " 0   TV      200 non-null    float64\n",
      " 1   Sales   200 non-null    float64\n",
      "dtypes: float64(2)\n",
      "memory usage: 3.2 KB\n"
     ]
    }
   ],
   "source": [
    "# Let's check the columns\n",
    "advertising.info()"
   ]
  },
  {
   "cell_type": "code",
   "execution_count": 6,
   "metadata": {
    "execution": {
     "iopub.execute_input": "2021-02-07T03:15:52.875629Z",
     "iopub.status.busy": "2021-02-07T03:15:52.874926Z",
     "iopub.status.idle": "2021-02-07T03:15:52.881382Z",
     "shell.execute_reply": "2021-02-07T03:15:52.880649Z"
    },
    "papermill": {
     "duration": 0.038686,
     "end_time": "2021-02-07T03:15:52.881504",
     "exception": false,
     "start_time": "2021-02-07T03:15:52.842818",
     "status": "completed"
    },
    "tags": []
   },
   "outputs": [
    {
     "data": {
      "text/plain": [
       "(200, 2)"
      ]
     },
     "execution_count": 6,
     "metadata": {},
     "output_type": "execute_result"
    }
   ],
   "source": [
    "# Check the shape of the DataFrame (rows, columns)\n",
    "advertising.shape"
   ]
  },
  {
   "cell_type": "code",
   "execution_count": 7,
   "metadata": {
    "execution": {
     "iopub.execute_input": "2021-02-07T03:15:52.945791Z",
     "iopub.status.busy": "2021-02-07T03:15:52.944648Z",
     "iopub.status.idle": "2021-02-07T03:15:52.961968Z",
     "shell.execute_reply": "2021-02-07T03:15:52.961448Z"
    },
    "papermill": {
     "duration": 0.053445,
     "end_time": "2021-02-07T03:15:52.962104",
     "exception": false,
     "start_time": "2021-02-07T03:15:52.908659",
     "status": "completed"
    },
    "tags": []
   },
   "outputs": [
    {
     "data": {
      "text/html": [
       "<div>\n",
       "<style scoped>\n",
       "    .dataframe tbody tr th:only-of-type {\n",
       "        vertical-align: middle;\n",
       "    }\n",
       "\n",
       "    .dataframe tbody tr th {\n",
       "        vertical-align: top;\n",
       "    }\n",
       "\n",
       "    .dataframe thead th {\n",
       "        text-align: right;\n",
       "    }\n",
       "</style>\n",
       "<table border=\"1\" class=\"dataframe\">\n",
       "  <thead>\n",
       "    <tr style=\"text-align: right;\">\n",
       "      <th></th>\n",
       "      <th>TV</th>\n",
       "      <th>Sales</th>\n",
       "    </tr>\n",
       "  </thead>\n",
       "  <tbody>\n",
       "    <tr>\n",
       "      <th>count</th>\n",
       "      <td>200.000000</td>\n",
       "      <td>200.000000</td>\n",
       "    </tr>\n",
       "    <tr>\n",
       "      <th>mean</th>\n",
       "      <td>147.042500</td>\n",
       "      <td>14.022500</td>\n",
       "    </tr>\n",
       "    <tr>\n",
       "      <th>std</th>\n",
       "      <td>85.854236</td>\n",
       "      <td>5.217457</td>\n",
       "    </tr>\n",
       "    <tr>\n",
       "      <th>min</th>\n",
       "      <td>0.700000</td>\n",
       "      <td>1.600000</td>\n",
       "    </tr>\n",
       "    <tr>\n",
       "      <th>25%</th>\n",
       "      <td>74.375000</td>\n",
       "      <td>10.375000</td>\n",
       "    </tr>\n",
       "    <tr>\n",
       "      <th>50%</th>\n",
       "      <td>149.750000</td>\n",
       "      <td>12.900000</td>\n",
       "    </tr>\n",
       "    <tr>\n",
       "      <th>75%</th>\n",
       "      <td>218.825000</td>\n",
       "      <td>17.400000</td>\n",
       "    </tr>\n",
       "    <tr>\n",
       "      <th>max</th>\n",
       "      <td>296.400000</td>\n",
       "      <td>27.000000</td>\n",
       "    </tr>\n",
       "  </tbody>\n",
       "</table>\n",
       "</div>"
      ],
      "text/plain": [
       "               TV       Sales\n",
       "count  200.000000  200.000000\n",
       "mean   147.042500   14.022500\n",
       "std     85.854236    5.217457\n",
       "min      0.700000    1.600000\n",
       "25%     74.375000   10.375000\n",
       "50%    149.750000   12.900000\n",
       "75%    218.825000   17.400000\n",
       "max    296.400000   27.000000"
      ]
     },
     "execution_count": 7,
     "metadata": {},
     "output_type": "execute_result"
    }
   ],
   "source": [
    "# Let's look at some statistical information about the dataframe.\n",
    "advertising.describe()"
   ]
  },
  {
   "cell_type": "markdown",
   "metadata": {
    "papermill": {
     "duration": 0.02672,
     "end_time": "2021-02-07T03:15:53.016087",
     "exception": false,
     "start_time": "2021-02-07T03:15:52.989367",
     "status": "completed"
    },
    "tags": []
   },
   "source": [
    "# Visualising Data Using Seaborn"
   ]
  },
  {
   "cell_type": "code",
   "execution_count": 8,
   "metadata": {
    "execution": {
     "iopub.execute_input": "2021-02-07T03:15:53.077330Z",
     "iopub.status.busy": "2021-02-07T03:15:53.076403Z",
     "iopub.status.idle": "2021-02-07T03:15:54.219547Z",
     "shell.execute_reply": "2021-02-07T03:15:54.218970Z"
    },
    "papermill": {
     "duration": 1.176269,
     "end_time": "2021-02-07T03:15:54.219665",
     "exception": false,
     "start_time": "2021-02-07T03:15:53.043396",
     "status": "completed"
    },
    "tags": []
   },
   "outputs": [],
   "source": [
    "# Conventional way to import seaborn\n",
    "import seaborn as sns\n",
    "\n",
    "# To visualise in the notebook\n",
    "%matplotlib inline"
   ]
  },
  {
   "cell_type": "code",
   "execution_count": 9,
   "metadata": {
    "execution": {
     "iopub.execute_input": "2021-02-07T03:15:54.282399Z",
     "iopub.status.busy": "2021-02-07T03:15:54.281716Z",
     "iopub.status.idle": "2021-02-07T03:15:54.574962Z",
     "shell.execute_reply": "2021-02-07T03:15:54.575458Z"
    },
    "papermill": {
     "duration": 0.327402,
     "end_time": "2021-02-07T03:15:54.575606",
     "exception": false,
     "start_time": "2021-02-07T03:15:54.248204",
     "status": "completed"
    },
    "tags": []
   },
   "outputs": [
    {
     "name": "stderr",
     "output_type": "stream",
     "text": [
      "/opt/conda/lib/python3.7/site-packages/seaborn/axisgrid.py:2079: UserWarning: The `size` parameter has been renamed to `height`; please update your code.\n",
      "  warnings.warn(msg, UserWarning)\n"
     ]
    },
    {
     "data": {
      "text/plain": [
       "<seaborn.axisgrid.PairGrid at 0x7f25a0b86b50>"
      ]
     },
     "execution_count": 9,
     "metadata": {},
     "output_type": "execute_result"
    },
    {
     "data": {
      "image/png": "[encoded data removed]",
      "text/plain": [
       "<Figure size 352.8x504 with 1 Axes>"
      ]
     },
     "metadata": {
      "needs_background": "light"
     },
     "output_type": "display_data"
    }
   ],
   "source": [
    "# Visualise the relationship between the features and the response using scatterplots\n",
    "sns.pairplot(advertising, x_vars=['TV'], y_vars='Sales',size=7, aspect=0.7, kind='scatter')"
   ]
  },
  {
   "cell_type": "markdown",
   "metadata": {
    "papermill": {
     "duration": 0.028675,
     "end_time": "2021-02-07T03:15:54.633836",
     "exception": false,
     "start_time": "2021-02-07T03:15:54.605161",
     "status": "completed"
    },
    "tags": []
   },
   "source": [
    "# Perfroming Simple Linear Regression"
   ]
  },
  {
   "cell_type": "markdown",
   "metadata": {
    "papermill": {
     "duration": 0.02924,
     "end_time": "2021-02-07T03:15:54.692497",
     "exception": false,
     "start_time": "2021-02-07T03:15:54.663257",
     "status": "completed"
    },
    "tags": []
   },
   "source": [
    "Equation of linear regression<br>\n",
    "$y = c + m_1x_1 + m_2x_2 + ... + m_nx_n$\n",
    "\n",
    "-  $y$ is the response\n",
    "-  $c$ is the intercept\n",
    "-  $m_1$ is the coefficient for the first feature\n",
    "-  $m_n$ is the coefficient for the nth feature<br>\n",
    "\n",
    "In our case:\n",
    "\n",
    "$y = c + m_1 \\times TV$\n",
    "\n",
    "The $m$ values are called the model **coefficients** or **model parameters**."
   ]
  },
  {
   "cell_type": "markdown",
   "metadata": {
    "papermill": {
     "duration": 0.023712,
     "end_time": "2021-02-07T03:15:54.745601",
     "exception": false,
     "start_time": "2021-02-07T03:15:54.721889",
     "status": "completed"
    },
    "tags": []
   },
   "source": [
    "### Generic Steps in Model Building using ```sklearn```\n",
    "\n",
    "Before you read further, it is good to understand the generic structure of modeling using the scikit-learn library. Broadly, the steps to build any model can be divided as follows: "
   ]
  },
  {
   "cell_type": "markdown",
   "metadata": {
    "papermill": {
     "duration": 0.029229,
     "end_time": "2021-02-07T03:15:54.797666",
     "exception": false,
     "start_time": "2021-02-07T03:15:54.768437",
     "status": "completed"
    },
    "tags": []
   },
   "source": [
    "## Preparing X and y\n",
    "\n",
    "-  The scikit-learn library expects X (feature variable) and y (response variable) to be NumPy arrays.\n",
    "-  However, X can be a dataframe as Pandas is built over NumPy."
   ]
  },
  {
   "cell_type": "code",
   "execution_count": 10,
   "metadata": {
    "execution": {
     "iopub.execute_input": "2021-02-07T03:15:54.865365Z",
     "iopub.status.busy": "2021-02-07T03:15:54.864449Z",
     "iopub.status.idle": "2021-02-07T03:15:54.870601Z",
     "shell.execute_reply": "2021-02-07T03:15:54.870084Z"
    },
    "papermill": {
     "duration": 0.043501,
     "end_time": "2021-02-07T03:15:54.870714",
     "exception": false,
     "start_time": "2021-02-07T03:15:54.827213",
     "status": "completed"
    },
    "tags": []
   },
   "outputs": [
    {
     "data": {
      "text/plain": [
       "0    230.1\n",
       "1     44.5\n",
       "2     17.2\n",
       "3    151.5\n",
       "4    180.8\n",
       "Name: TV, dtype: float64"
      ]
     },
     "execution_count": 10,
     "metadata": {},
     "output_type": "execute_result"
    }
   ],
   "source": [
    "# Putting feature variable to X\n",
    "X = advertising['TV']\n",
    "\n",
    "# Print the first 5 rows\n",
    "X.head()"
   ]
  },
  {
   "cell_type": "code",
   "execution_count": 11,
   "metadata": {
    "execution": {
     "iopub.execute_input": "2021-02-07T03:15:54.937472Z",
     "iopub.status.busy": "2021-02-07T03:15:54.936511Z",
     "iopub.status.idle": "2021-02-07T03:15:54.942004Z",
     "shell.execute_reply": "2021-02-07T03:15:54.941453Z"
    },
    "papermill": {
     "duration": 0.041596,
     "end_time": "2021-02-07T03:15:54.942153",
     "exception": false,
     "start_time": "2021-02-07T03:15:54.900557",
     "status": "completed"
    },
    "tags": []
   },
   "outputs": [
    {
     "data": {
      "text/plain": [
       "0    22.1\n",
       "1    10.4\n",
       "2     9.3\n",
       "3    18.5\n",
       "4    12.9\n",
       "Name: Sales, dtype: float64"
      ]
     },
     "execution_count": 11,
     "metadata": {},
     "output_type": "execute_result"
    }
   ],
   "source": [
    "# Putting response variable to y\n",
    "y = advertising['Sales']\n",
    "\n",
    "# Print the first 5 rows\n",
    "y.head()"
   ]
  },
  {
   "cell_type": "markdown",
   "metadata": {
    "papermill": {
     "duration": 0.03003,
     "end_time": "2021-02-07T03:15:55.002787",
     "exception": false,
     "start_time": "2021-02-07T03:15:54.972757",
     "status": "completed"
    },
    "tags": []
   },
   "source": [
    "## Splitting Data into Training and Testing Sets"
   ]
  },
  {
   "cell_type": "code",
   "execution_count": 12,
   "metadata": {
    "execution": {
     "iopub.execute_input": "2021-02-07T03:15:55.068840Z",
     "iopub.status.busy": "2021-02-07T03:15:55.068202Z",
     "iopub.status.idle": "2021-02-07T03:15:55.206775Z",
     "shell.execute_reply": "2021-02-07T03:15:55.206225Z"
    },
    "papermill": {
     "duration": 0.17401,
     "end_time": "2021-02-07T03:15:55.206884",
     "exception": false,
     "start_time": "2021-02-07T03:15:55.032874",
     "status": "completed"
    },
    "tags": []
   },
   "outputs": [],
   "source": [
    "#random_state is the seed used by the random number generator, it can be any integer.\n",
    "\n",
    "from sklearn.model_selection import train_test_split\n",
    "X_train, X_test, y_train, y_test = train_test_split(X, y, train_size=0.7 , random_state=100)"
   ]
  },
  {
   "cell_type": "code",
   "execution_count": 13,
   "metadata": {
    "execution": {
     "iopub.execute_input": "2021-02-07T03:15:55.274658Z",
     "iopub.status.busy": "2021-02-07T03:15:55.273983Z",
     "iopub.status.idle": "2021-02-07T03:15:55.278768Z",
     "shell.execute_reply": "2021-02-07T03:15:55.278182Z"
    },
    "papermill": {
     "duration": 0.040872,
     "end_time": "2021-02-07T03:15:55.278969",
     "exception": false,
     "start_time": "2021-02-07T03:15:55.238097",
     "status": "completed"
    },
    "tags": []
   },
   "outputs": [
    {
     "name": "stdout",
     "output_type": "stream",
     "text": [
      "<class 'pandas.core.series.Series'>\n",
      "<class 'pandas.core.series.Series'>\n",
      "<class 'pandas.core.series.Series'>\n",
      "<class 'pandas.core.series.Series'>\n"
     ]
    }
   ],
   "source": [
    "print(type(X_train))\n",
    "print(type(X_test))\n",
    "print(type(y_train))\n",
    "print(type(y_test))"
   ]
  },
  {
   "cell_type": "code",
   "execution_count": 14,
   "metadata": {
    "execution": {
     "iopub.execute_input": "2021-02-07T03:15:55.344614Z",
     "iopub.status.busy": "2021-02-07T03:15:55.343984Z",
     "iopub.status.idle": "2021-02-07T03:15:55.352482Z",
     "shell.execute_reply": "2021-02-07T03:15:55.352987Z"
    },
    "papermill": {
     "duration": 0.042723,
     "end_time": "2021-02-07T03:15:55.353165",
     "exception": false,
     "start_time": "2021-02-07T03:15:55.310442",
     "status": "completed"
    },
    "tags": []
   },
   "outputs": [
    {
     "data": {
      "text/plain": [
       "<function sklearn.model_selection._split.train_test_split(*arrays, **options)>"
      ]
     },
     "execution_count": 14,
     "metadata": {},
     "output_type": "execute_result"
    }
   ],
   "source": [
    "train_test_split   #Press Tab to auto-fill the code\n",
    "#Press Tab+Shift to read the documentation"
   ]
  },
  {
   "cell_type": "code",
   "execution_count": 15,
   "metadata": {
    "execution": {
     "iopub.execute_input": "2021-02-07T03:15:55.422342Z",
     "iopub.status.busy": "2021-02-07T03:15:55.421671Z",
     "iopub.status.idle": "2021-02-07T03:15:55.426525Z",
     "shell.execute_reply": "2021-02-07T03:15:55.425881Z"
    },
    "papermill": {
     "duration": 0.041557,
     "end_time": "2021-02-07T03:15:55.426627",
     "exception": false,
     "start_time": "2021-02-07T03:15:55.385070",
     "status": "completed"
    },
    "tags": []
   },
   "outputs": [
    {
     "name": "stdout",
     "output_type": "stream",
     "text": [
      "(140,)\n",
      "(140,)\n",
      "(60,)\n",
      "(60,)\n"
     ]
    }
   ],
   "source": [
    "print(X_train.shape)\n",
    "print(y_train.shape)\n",
    "print(X_test.shape)\n",
    "print(y_test.shape)"
   ]
  },
  {
   "cell_type": "code",
   "execution_count": 16,
   "metadata": {
    "execution": {
     "iopub.execute_input": "2021-02-07T03:15:55.496573Z",
     "iopub.status.busy": "2021-02-07T03:15:55.495819Z",
     "iopub.status.idle": "2021-02-07T03:15:55.501702Z",
     "shell.execute_reply": "2021-02-07T03:15:55.501125Z"
    },
    "papermill": {
     "duration": 0.043502,
     "end_time": "2021-02-07T03:15:55.501811",
     "exception": false,
     "start_time": "2021-02-07T03:15:55.458309",
     "status": "completed"
    },
    "tags": []
   },
   "outputs": [
    {
     "name": "stderr",
     "output_type": "stream",
     "text": [
      "/opt/conda/lib/python3.7/site-packages/ipykernel_launcher.py:6: FutureWarning: Support for multi-dimensional indexing (e.g. `obj[:, None]`) is deprecated and will be removed in a future version.  Convert to a numpy array before indexing instead.\n",
      "  \n",
      "/opt/conda/lib/python3.7/site-packages/ipykernel_launcher.py:7: FutureWarning: Support for multi-dimensional indexing (e.g. `obj[:, None]`) is deprecated and will be removed in a future version.  Convert to a numpy array before indexing instead.\n",
      "  import sys\n"
     ]
    }
   ],
   "source": [
    "#It is a general convention in scikit-learn that observations are rows, while features are columns. \n",
    "#This is needed only when you are using a single feature; in this case, 'TV'.\n",
    "\n",
    "import numpy as np\n",
    "\n",
    "X_train = X_train[:, np.newaxis]\n",
    "X_test = X_test[:, np.newaxis]"
   ]
  },
  {
   "cell_type": "code",
   "execution_count": 17,
   "metadata": {
    "execution": {
     "iopub.execute_input": "2021-02-07T03:15:55.572805Z",
     "iopub.status.busy": "2021-02-07T03:15:55.571806Z",
     "iopub.status.idle": "2021-02-07T03:15:55.580070Z",
     "shell.execute_reply": "2021-02-07T03:15:55.579383Z"
    },
    "papermill": {
     "duration": 0.045892,
     "end_time": "2021-02-07T03:15:55.580186",
     "exception": false,
     "start_time": "2021-02-07T03:15:55.534294",
     "status": "completed"
    },
    "tags": []
   },
   "outputs": [
    {
     "name": "stdout",
     "output_type": "stream",
     "text": [
      "(140, 1)\n",
      "(140,)\n",
      "(60, 1)\n",
      "(60,)\n"
     ]
    }
   ],
   "source": [
    "print(X_train.shape)\n",
    "print(y_train.shape)\n",
    "print(X_test.shape)\n",
    "print(y_test.shape)"
   ]
  },
  {
   "cell_type": "markdown",
   "metadata": {
    "papermill": {
     "duration": 0.038345,
     "end_time": "2021-02-07T03:15:55.657091",
     "exception": false,
     "start_time": "2021-02-07T03:15:55.618746",
     "status": "completed"
    },
    "tags": []
   },
   "source": [
    "## Performing Linear Regression"
   ]
  },
  {
   "cell_type": "code",
   "execution_count": 18,
   "metadata": {
    "execution": {
     "iopub.execute_input": "2021-02-07T03:15:55.738428Z",
     "iopub.status.busy": "2021-02-07T03:15:55.737788Z",
     "iopub.status.idle": "2021-02-07T03:15:55.871641Z",
     "shell.execute_reply": "2021-02-07T03:15:55.872230Z"
    },
    "papermill": {
     "duration": 0.17694,
     "end_time": "2021-02-07T03:15:55.872385",
     "exception": false,
     "start_time": "2021-02-07T03:15:55.695445",
     "status": "completed"
    },
    "tags": []
   },
   "outputs": [
    {
     "data": {
      "text/plain": [
       "LinearRegression()"
      ]
     },
     "execution_count": 18,
     "metadata": {},
     "output_type": "execute_result"
    }
   ],
   "source": [
    "# import LinearRegression from sklearn\n",
    "from sklearn.linear_model import LinearRegression\n",
    "\n",
    "# Representing LinearRegression as lr(Creating LinearRegression Object)\n",
    "lr = LinearRegression()\n",
    "\n",
    "# Fit the model using lr.fit()\n",
    "lr.fit(X_train, y_train)"
   ]
  },
  {
   "cell_type": "markdown",
   "metadata": {
    "papermill": {
     "duration": 0.049784,
     "end_time": "2021-02-07T03:15:55.969887",
     "exception": false,
     "start_time": "2021-02-07T03:15:55.920103",
     "status": "completed"
    },
    "tags": []
   },
   "source": [
    "## Coefficients Calculation"
   ]
  },
  {
   "cell_type": "code",
   "execution_count": 19,
   "metadata": {
    "execution": {
     "iopub.execute_input": "2021-02-07T03:15:56.072171Z",
     "iopub.status.busy": "2021-02-07T03:15:56.071553Z",
     "iopub.status.idle": "2021-02-07T03:15:56.080790Z",
     "shell.execute_reply": "2021-02-07T03:15:56.080179Z"
    },
    "papermill": {
     "duration": 0.061474,
     "end_time": "2021-02-07T03:15:56.080900",
     "exception": false,
     "start_time": "2021-02-07T03:15:56.019426",
     "status": "completed"
    },
    "scrolled": true,
    "tags": []
   },
   "outputs": [
    {
     "name": "stdout",
     "output_type": "stream",
     "text": [
      "6.989665857411681\n",
      "[0.04649736]\n"
     ]
    }
   ],
   "source": [
    "# Print the intercept and coefficients\n",
    "print(lr.intercept_)\n",
    "print(lr.coef_)"
   ]
  },
  {
   "cell_type": "markdown",
   "metadata": {
    "papermill": {
     "duration": 0.033105,
     "end_time": "2021-02-07T03:15:56.147435",
     "exception": false,
     "start_time": "2021-02-07T03:15:56.114330",
     "status": "completed"
    },
    "tags": []
   },
   "source": [
    "$y = 6.989 + 0.0464 \\times TV $<br>\n",
    "\n",
    "Now, let's use this equation to predict our sales."
   ]
  },
  {
   "cell_type": "markdown",
   "metadata": {
    "papermill": {
     "duration": 0.033723,
     "end_time": "2021-02-07T03:15:56.214427",
     "exception": false,
     "start_time": "2021-02-07T03:15:56.180704",
     "status": "completed"
    },
    "tags": []
   },
   "source": [
    "## Predictions"
   ]
  },
  {
   "cell_type": "code",
   "execution_count": 20,
   "metadata": {
    "execution": {
     "iopub.execute_input": "2021-02-07T03:15:56.288848Z",
     "iopub.status.busy": "2021-02-07T03:15:56.287935Z",
     "iopub.status.idle": "2021-02-07T03:15:56.291967Z",
     "shell.execute_reply": "2021-02-07T03:15:56.291235Z"
    },
    "papermill": {
     "duration": 0.042608,
     "end_time": "2021-02-07T03:15:56.292142",
     "exception": false,
     "start_time": "2021-02-07T03:15:56.249534",
     "status": "completed"
    },
    "tags": []
   },
   "outputs": [],
   "source": [
    "# Making predictions on the testing set\n",
    "y_pred = lr.predict(X_test)"
   ]
  },
  {
   "cell_type": "code",
   "execution_count": 21,
   "metadata": {
    "execution": {
     "iopub.execute_input": "2021-02-07T03:15:56.401373Z",
     "iopub.status.busy": "2021-02-07T03:15:56.400547Z",
     "iopub.status.idle": "2021-02-07T03:15:56.404464Z",
     "shell.execute_reply": "2021-02-07T03:15:56.403660Z"
    },
    "papermill": {
     "duration": 0.06039,
     "end_time": "2021-02-07T03:15:56.404585",
     "exception": false,
     "start_time": "2021-02-07T03:15:56.344195",
     "status": "completed"
    },
    "tags": []
   },
   "outputs": [
    {
     "data": {
      "text/plain": [
       "numpy.ndarray"
      ]
     },
     "execution_count": 21,
     "metadata": {},
     "output_type": "execute_result"
    }
   ],
   "source": [
    "type(y_pred)"
   ]
  },
  {
   "cell_type": "markdown",
   "metadata": {
    "collapsed": true,
    "papermill": {
     "duration": 0.051705,
     "end_time": "2021-02-07T03:15:56.507849",
     "exception": false,
     "start_time": "2021-02-07T03:15:56.456144",
     "status": "completed"
    },
    "tags": []
   },
   "source": [
    "#### Computing RMSE and R^2 Values"
   ]
  },
  {
   "cell_type": "code",
   "execution_count": 22,
   "metadata": {
    "execution": {
     "iopub.execute_input": "2021-02-07T03:15:56.615076Z",
     "iopub.status.busy": "2021-02-07T03:15:56.614247Z",
     "iopub.status.idle": "2021-02-07T03:15:56.791957Z",
     "shell.execute_reply": "2021-02-07T03:15:56.792659Z"
    },
    "papermill": {
     "duration": 0.233408,
     "end_time": "2021-02-07T03:15:56.792822",
     "exception": false,
     "start_time": "2021-02-07T03:15:56.559414",
     "status": "completed"
    },
    "tags": []
   },
   "outputs": [
    {
     "data": {
      "text/plain": [
       "Text(0, 0.5, 'Sales')"
      ]
     },
     "execution_count": 22,
     "metadata": {},
     "output_type": "execute_result"
    },
    {
     "data": {
      "image/png": "[encoded data removed]",
      "text/plain": [
       "<Figure size 432x288 with 1 Axes>"
      ]
     },
     "metadata": {
      "needs_background": "light"
     },
     "output_type": "display_data"
    }
   ],
   "source": [
    "# Actual vs Predicted\n",
    "import matplotlib.pyplot as plt\n",
    "c = [i for i in range(1,61,1)]         # generating index \n",
    "fig = plt.figure()\n",
    "plt.plot(c,y_test, color=\"blue\", linewidth=2.5, linestyle=\"-\")\n",
    "plt.plot(c,y_pred, color=\"red\",  linewidth=2.5, linestyle=\"-\")\n",
    "fig.suptitle('Actual and Predicted', fontsize=20)              # Plot heading \n",
    "plt.xlabel('Index', fontsize=18)                               # X-label\n",
    "plt.ylabel('Sales', fontsize=16)                       # Y-label"
   ]
  },
  {
   "cell_type": "code",
   "execution_count": 23,
   "metadata": {
    "execution": {
     "iopub.execute_input": "2021-02-07T03:15:56.916948Z",
     "iopub.status.busy": "2021-02-07T03:15:56.916121Z",
     "iopub.status.idle": "2021-02-07T03:15:57.071856Z",
     "shell.execute_reply": "2021-02-07T03:15:57.072730Z"
    },
    "papermill": {
     "duration": 0.225346,
     "end_time": "2021-02-07T03:15:57.072914",
     "exception": false,
     "start_time": "2021-02-07T03:15:56.847568",
     "status": "completed"
    },
    "tags": []
   },
   "outputs": [
    {
     "data": {
      "text/plain": [
       "Text(0, 0.5, 'ytest-ypred')"
      ]
     },
     "execution_count": 23,
     "metadata": {},
     "output_type": "execute_result"
    },
    {
     "data": {
      "image/png": "[encoded data removed]",
      "text/plain": [
       "<Figure size 432x288 with 1 Axes>"
      ]
     },
     "metadata": {
      "needs_background": "light"
     },
     "output_type": "display_data"
    }
   ],
   "source": [
    "# Error terms\n",
    "c = [i for i in range(1,61,1)]\n",
    "fig = plt.figure()\n",
    "plt.plot(c,y_test-y_pred, color=\"blue\", linewidth=2.5, linestyle=\"-\")\n",
    "fig.suptitle('Error Terms', fontsize=20)              # Plot heading \n",
    "plt.xlabel('Index', fontsize=18)                      # X-label\n",
    "plt.ylabel('ytest-ypred', fontsize=16)                # Y-label"
   ]
  },
  {
   "cell_type": "code",
   "execution_count": 24,
   "metadata": {
    "execution": {
     "iopub.execute_input": "2021-02-07T03:15:57.179232Z",
     "iopub.status.busy": "2021-02-07T03:15:57.178559Z",
     "iopub.status.idle": "2021-02-07T03:15:57.181890Z",
     "shell.execute_reply": "2021-02-07T03:15:57.182523Z"
    },
    "papermill": {
     "duration": 0.06378,
     "end_time": "2021-02-07T03:15:57.182676",
     "exception": false,
     "start_time": "2021-02-07T03:15:57.118896",
     "status": "completed"
    },
    "tags": []
   },
   "outputs": [],
   "source": [
    "from sklearn.metrics import mean_squared_error, r2_score\n",
    "mse = mean_squared_error(y_test, y_pred)"
   ]
  },
  {
   "cell_type": "code",
   "execution_count": 25,
   "metadata": {
    "execution": {
     "iopub.execute_input": "2021-02-07T03:15:57.263367Z",
     "iopub.status.busy": "2021-02-07T03:15:57.262747Z",
     "iopub.status.idle": "2021-02-07T03:15:57.269338Z",
     "shell.execute_reply": "2021-02-07T03:15:57.268804Z"
    },
    "papermill": {
     "duration": 0.049056,
     "end_time": "2021-02-07T03:15:57.269444",
     "exception": false,
     "start_time": "2021-02-07T03:15:57.220388",
     "status": "completed"
    },
    "tags": []
   },
   "outputs": [],
   "source": [
    "r_squared = r2_score(y_test, y_pred)"
   ]
  },
  {
   "cell_type": "code",
   "execution_count": 26,
   "metadata": {
    "execution": {
     "iopub.execute_input": "2021-02-07T03:15:57.351945Z",
     "iopub.status.busy": "2021-02-07T03:15:57.351341Z",
     "iopub.status.idle": "2021-02-07T03:15:57.356908Z",
     "shell.execute_reply": "2021-02-07T03:15:57.355950Z"
    },
    "papermill": {
     "duration": 0.048782,
     "end_time": "2021-02-07T03:15:57.357093",
     "exception": false,
     "start_time": "2021-02-07T03:15:57.308311",
     "status": "completed"
    },
    "tags": []
   },
   "outputs": [
    {
     "name": "stdout",
     "output_type": "stream",
     "text": [
      "Mean_Squared_Error : 7.975798532854849\n",
      "r_square_value : 0.5942987267783302\n"
     ]
    }
   ],
   "source": [
    "print('Mean_Squared_Error :' ,mse)\n",
    "print('r_square_value :',r_squared)"
   ]
  },
  {
   "cell_type": "code",
   "execution_count": 27,
   "metadata": {
    "execution": {
     "iopub.execute_input": "2021-02-07T03:15:57.437746Z",
     "iopub.status.busy": "2021-02-07T03:15:57.436847Z",
     "iopub.status.idle": "2021-02-07T03:15:57.664076Z",
     "shell.execute_reply": "2021-02-07T03:15:57.663228Z"
    },
    "papermill": {
     "duration": 0.268394,
     "end_time": "2021-02-07T03:15:57.664206",
     "exception": false,
     "start_time": "2021-02-07T03:15:57.395812",
     "status": "completed"
    },
    "tags": []
   },
   "outputs": [
    {
     "data": {
      "text/plain": [
       "Text(0, 0.5, 'Predicted Y')"
      ]
     },
     "execution_count": 27,
     "metadata": {},
     "output_type": "execute_result"
    },
    {
     "data": {
      "image/png": "[encoded data removed]",
      "text/plain": [
       "<Figure size 432x288 with 1 Axes>"
      ]
     },
     "metadata": {
      "needs_background": "light"
     },
     "output_type": "display_data"
    }
   ],
   "source": [
    "import matplotlib.pyplot as plt\n",
    "plt.scatter(y_test,y_pred)\n",
    "plt.xlabel('Y Test')\n",
    "plt.ylabel('Predicted Y')"
   ]
  }
 ],
 "metadata": {
  "kernelspec": {
   "display_name": "Python 3",
   "language": "python",
   "name": "python3"
  },
  "language_info": {
   "codemirror_mode": {
    "name": "ipython",
    "version": 3
   },
   "file_extension": ".py",
   "mimetype": "text/x-python",
   "name": "python",
   "nbconvert_exporter": "python",
   "pygments_lexer": "ipython3",
   "version": "3.7.6"
  },
  "papermill": {
   "duration": 10.65105,
   "end_time": "2021-02-07T03:15:57.831800",
   "environment_variables": {},
   "exception": null,
   "input_path": "__notebook__.ipynb",
   "output_path": "__notebook__.ipynb",
   "parameters": {},
   "start_time": "2021-02-07T03:15:47.180750",
   "version": "2.1.0"
  }
 },
 "nbformat": 4,
 "nbformat_minor": 4
}
